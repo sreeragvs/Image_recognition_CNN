{
 HEAD
 "cells": [
  {
   "cell_type": "code",
   "execution_count": 1,
   "metadata": {
    "id": "sL-Vs8lE9Nhm"
   },
   "outputs": [],
   "source": [
    "from tensorflow.keras.datasets import cifar10"
   ]
  },
  {
   "cell_type": "code",
   "execution_count": 2,
   "metadata": {
    "colab": {
     "base_uri": "https://localhost:8080/"
    },
    "id": "JadStOfc89PN",
    "outputId": "c1a04ac5-89ae-4c18-de09-793c14d17efc"
   },
   "outputs": [
    {
     "name": "stdout",
     "output_type": "stream",
     "text": [
      "Downloading data from https://www.cs.toronto.edu/~kriz/cifar-10-python.tar.gz\n",
      "\u001b[1m170498071/170498071\u001b[0m \u001b[32m━━━━━━━━━━━━━━━━━━━━\u001b[0m\u001b[37m\u001b[0m \u001b[1m5s\u001b[0m 0us/step\n"
     ]
    }
   ],
   "source": [
    "(x_train, y_train), (x_test, y_test) = cifar10.load_data()"
   ]
  },
  {
   "cell_type": "code",
   "execution_count": 3,
   "metadata": {
    "id": "kN4Acqgt9k1T"
   },
   "outputs": [],
   "source": [
    "class_names = ['airplane', 'automobile', 'bird', 'cat', 'deer', 'dog', 'frog', 'horse', 'ship', 'truck']"
   ]
  },
  {
   "cell_type": "code",
   "execution_count": 4,
   "metadata": {
    "colab": {
     "base_uri": "https://localhost:8080/"
    },
    "id": "mH0q1HpL-MPA",
    "outputId": "49b65c7e-0609-429d-f215-93aebf487fd9"
   },
   "outputs": [
    {
     "name": "stdout",
     "output_type": "stream",
     "text": [
      "(50000, 32, 32, 3)\n",
      "(50000, 1)\n",
      "(10000, 32, 32, 3)\n",
      "(10000, 1)\n"
     ]
    }
   ],
   "source": [
    "print(x_train.shape)\n",
    "print(y_train.shape)\n",
    "print(x_test.shape)\n",
    "print(y_test.shape)"
   ]
  },
  {
   "cell_type": "code",
   "execution_count": 5,
   "metadata": {
    "id": "z7CKCz6A-2sg"
   },
   "outputs": [],
   "source": [
    "import matplotlib.pyplot as plt"
   ]
  },
  {
   "cell_type": "code",
   "execution_count": 6,
   "metadata": {
    "colab": {
     "base_uri": "https://localhost:8080/",
     "height": 114
    },
    "id": "R8GX4hFr_IeV",
    "outputId": "c21d0393-d62f-41e3-fba5-8f8190f4cfab"
   },
   "outputs": [
    {
     "data": {
      "image/png": "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\n",
      "text/plain": [
       "<Figure size 100x100 with 1 Axes>"
      ]
     },
     "metadata": {},
     "output_type": "display_data"
    }
   ],
   "source": [
    "plt.figure(figsize=(1, 1))\n",
    "plt.imshow(x_train[1])\n",
    "plt.axis(\"off\")\n",
    "plt.show()"
   ]
  },
  {
   "cell_type": "code",
   "execution_count": 7,
   "metadata": {
    "colab": {
     "base_uri": "https://localhost:8080/",
     "height": 114
    },
    "id": "WWfgHK16_Mge",
    "outputId": "58e78e72-7cd0-4012-ca6e-8dccabd84121"
   },
   "outputs": [
    {
     "data": {
      "image/png": "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\n",
      "text/plain": [
       "<Figure size 100x100 with 1 Axes>"
      ]
     },
     "metadata": {},
     "output_type": "display_data"
    }
   ],
   "source": [
    "plt.figure(figsize=(1, 1))\n",
    "plt.imshow(x_test[0])\n",
    "plt.axis(\"off\")\n",
    "plt.show()"
   ]
  },
  {
   "cell_type": "code",
   "execution_count": 8,
   "metadata": {
    "colab": {
     "base_uri": "https://localhost:8080/"
    },
    "id": "uvJk2kI4_fik",
    "outputId": "a7465289-d81d-4b87-d954-4c8f12e50f3a"
   },
   "outputs": [
    {
     "name": "stdout",
     "output_type": "stream",
     "text": [
      "[3]\n"
     ]
    }
   ],
   "source": [
    "#label\n",
    "print(y_test[0])"
   ]
  },
  {
   "cell_type": "code",
   "execution_count": 9,
   "metadata": {
    "colab": {
     "base_uri": "https://localhost:8080/"
    },
    "id": "3htwAUcsAJ_t",
    "outputId": "82f232d7-ddfd-45b4-b31a-6b2716effc08"
   },
   "outputs": [
    {
     "data": {
      "text/plain": [
       "array([[6],\n",
       "       [9],\n",
       "       [9],\n",
       "       [4],\n",
       "       [1],\n",
       "       [1],\n",
       "       [2],\n",
       "       [7],\n",
       "       [8],\n",
       "       [3]], dtype=uint8)"
      ]
     },
     "execution_count": 9,
     "metadata": {},
     "output_type": "execute_result"
    }
   ],
   "source": [
    "y_train[:10]"
   ]
  },
  {
   "cell_type": "code",
   "execution_count": 10,
   "metadata": {
    "id": "fQgIegf9_mx6"
   },
   "outputs": [],
   "source": [
    "import tensorflow as tf\n",
    "import keras\n",
    "from keras.models import Sequential\n",
    "from keras.layers import Dense, Flatten, Input,Dropout, BatchNormalization\n",
    "from keras.utils import to_categorical\n",
    "import numpy as np"
   ]
  },
  {
   "cell_type": "markdown",
   "metadata": {
    "id": "yKnSg42UAhrp"
   },
   "source": [
    "## Data preperation"
   ]
  },
  {
   "cell_type": "code",
   "execution_count": 11,
   "metadata": {
    "id": "-PKKkA82A7EI"
   },
   "outputs": [],
   "source": [
    "# print(x_train[0])"
   ]
  },
  {
   "cell_type": "code",
   "execution_count": 12,
   "metadata": {
    "id": "C_mImSyiAanQ"
   },
   "outputs": [],
   "source": [
    "x_train = x_train.astype('float32')/255\n"
   ]
  },
  {
   "cell_type": "code",
   "execution_count": 13,
   "metadata": {
    "id": "jovlTUC8J3T6"
   },
   "outputs": [],
   "source": [
    "x_test = x_test.astype('float32')/255"
   ]
  },
  {
   "cell_type": "markdown",
   "metadata": {
    "id": "TLDFZf5lBFYx"
   },
   "source": [
    "# One hot encode labels"
   ]
  },
  {
   "cell_type": "code",
   "execution_count": 14,
   "metadata": {
    "id": "kUbKYK1ABCsY"
   },
   "outputs": [],
   "source": [
    "y_train_categorical = to_categorical(y_train, 10)\n",
    "y_test_categorical = to_categorical(y_test, 10)"
   ]
  },
  {
   "cell_type": "code",
   "execution_count": 15,
   "metadata": {
    "colab": {
     "base_uri": "https://localhost:8080/"
    },
    "id": "EGlgNFNfBjX7",
    "outputId": "41d94302-95e7-486c-b211-9aa8daaaf900"
   },
   "outputs": [
    {
     "data": {
      "text/plain": [
       "array([0., 0., 0., 0., 0., 0., 1., 0., 0., 0.])"
      ]
     },
     "execution_count": 15,
     "metadata": {},
     "output_type": "execute_result"
    }
   ],
   "source": [
    "y_train_categorical[0]"
   ]
  },
  {
   "cell_type": "markdown",
   "metadata": {
    "id": "gnMUlHTwBvN6"
   },
   "source": [
    "# Build a Sequential ANN using **Tensorflow**"
   ]
  },
  {
   "cell_type": "code",
   "execution_count": 16,
   "metadata": {
    "colab": {
     "base_uri": "https://localhost:8080/"
    },
    "id": "ul248Jy9B-ug",
    "outputId": "864b4d01-d6b8-4df9-9577-cc25cd5931d0"
   },
   "outputs": [
    {
     "data": {
      "text/plain": [
       "(50000, 32, 32, 3)"
      ]
     },
     "execution_count": 16,
     "metadata": {},
     "output_type": "execute_result"
    }
   ],
   "source": [
    "x_train.shape"
   ]
  },
  {
   "cell_type": "code",
   "execution_count": 17,
   "metadata": {
    "colab": {
     "base_uri": "https://localhost:8080/"
    },
    "id": "LdFQ2J6KCIMx",
    "outputId": "90a08a44-b81b-488c-da9f-a6dce643e096"
   },
   "outputs": [
    {
     "data": {
      "text/plain": [
       "(32, 32, 3)"
      ]
     },
     "execution_count": 17,
     "metadata": {},
     "output_type": "execute_result"
    }
   ],
   "source": [
    "x_train.shape[1:]"
   ]
  },
  {
   "cell_type": "code",
   "execution_count": 18,
   "metadata": {
    "id": "JpILa-xrBp3a"
   },
   "outputs": [],
   "source": [
    "model1 = Sequential([\n",
    "    Input(shape=x_train.shape[1:]),\n",
    "    Flatten(),\n",
    "    Dense(512, activation='relu'),\n",
    "    Dropout(0.4),\n",
    "    Dense(128, activation = 'relu'),\n",
    "    Dropout(0.2),\n",
    "    Dense(10, activation='softmax')\n",
    "\n",
    "])"
   ]
  },
  {
   "cell_type": "code",
   "execution_count": 19,
   "metadata": {
    "colab": {
     "base_uri": "https://localhost:8080/",
     "height": 321
    },
    "id": "gTxeDZ-6D3EQ",
    "outputId": "9a19efb8-da31-47ba-eb6f-c64f222c2cd3"
   },
   "outputs": [
    {
     "data": {
      "text/html": [
       "<pre style=\"white-space:pre;overflow-x:auto;line-height:normal;font-family:Menlo,'DejaVu Sans Mono',consolas,'Courier New',monospace\"><span style=\"font-weight: bold\">Model: \"sequential\"</span>\n",
       "</pre>\n"
      ],
      "text/plain": [
       "\u001b[1mModel: \"sequential\"\u001b[0m\n"
      ]
     },
     "metadata": {},
     "output_type": "display_data"
    },
    {
     "data": {
      "text/html": [
       "<pre style=\"white-space:pre;overflow-x:auto;line-height:normal;font-family:Menlo,'DejaVu Sans Mono',consolas,'Courier New',monospace\">┏━━━━━━━━━━━━━━━━━━━━━━━━━━━━━━━━━┳━━━━━━━━━━━━━━━━━━━━━━━━┳━━━━━━━━━━━━━━━┓\n",
       "┃<span style=\"font-weight: bold\"> Layer (type)                    </span>┃<span style=\"font-weight: bold\"> Output Shape           </span>┃<span style=\"font-weight: bold\">       Param # </span>┃\n",
       "┡━━━━━━━━━━━━━━━━━━━━━━━━━━━━━━━━━╇━━━━━━━━━━━━━━━━━━━━━━━━╇━━━━━━━━━━━━━━━┩\n",
       "│ flatten (<span style=\"color: #0087ff; text-decoration-color: #0087ff\">Flatten</span>)               │ (<span style=\"color: #00d7ff; text-decoration-color: #00d7ff\">None</span>, <span style=\"color: #00af00; text-decoration-color: #00af00\">3072</span>)           │             <span style=\"color: #00af00; text-decoration-color: #00af00\">0</span> │\n",
       "├─────────────────────────────────┼────────────────────────┼───────────────┤\n",
       "│ dense (<span style=\"color: #0087ff; text-decoration-color: #0087ff\">Dense</span>)                   │ (<span style=\"color: #00d7ff; text-decoration-color: #00d7ff\">None</span>, <span style=\"color: #00af00; text-decoration-color: #00af00\">512</span>)            │     <span style=\"color: #00af00; text-decoration-color: #00af00\">1,573,376</span> │\n",
       "├─────────────────────────────────┼────────────────────────┼───────────────┤\n",
       "│ dropout (<span style=\"color: #0087ff; text-decoration-color: #0087ff\">Dropout</span>)               │ (<span style=\"color: #00d7ff; text-decoration-color: #00d7ff\">None</span>, <span style=\"color: #00af00; text-decoration-color: #00af00\">512</span>)            │             <span style=\"color: #00af00; text-decoration-color: #00af00\">0</span> │\n",
       "├─────────────────────────────────┼────────────────────────┼───────────────┤\n",
       "│ dense_1 (<span style=\"color: #0087ff; text-decoration-color: #0087ff\">Dense</span>)                 │ (<span style=\"color: #00d7ff; text-decoration-color: #00d7ff\">None</span>, <span style=\"color: #00af00; text-decoration-color: #00af00\">128</span>)            │        <span style=\"color: #00af00; text-decoration-color: #00af00\">65,664</span> │\n",
       "├─────────────────────────────────┼────────────────────────┼───────────────┤\n",
       "│ dropout_1 (<span style=\"color: #0087ff; text-decoration-color: #0087ff\">Dropout</span>)             │ (<span style=\"color: #00d7ff; text-decoration-color: #00d7ff\">None</span>, <span style=\"color: #00af00; text-decoration-color: #00af00\">128</span>)            │             <span style=\"color: #00af00; text-decoration-color: #00af00\">0</span> │\n",
       "├─────────────────────────────────┼────────────────────────┼───────────────┤\n",
       "│ dense_2 (<span style=\"color: #0087ff; text-decoration-color: #0087ff\">Dense</span>)                 │ (<span style=\"color: #00d7ff; text-decoration-color: #00d7ff\">None</span>, <span style=\"color: #00af00; text-decoration-color: #00af00\">10</span>)             │         <span style=\"color: #00af00; text-decoration-color: #00af00\">1,290</span> │\n",
       "└─────────────────────────────────┴────────────────────────┴───────────────┘\n",
       "</pre>\n"
      ],
      "text/plain": [
       "┏━━━━━━━━━━━━━━━━━━━━━━━━━━━━━━━━━┳━━━━━━━━━━━━━━━━━━━━━━━━┳━━━━━━━━━━━━━━━┓\n",
       "┃\u001b[1m \u001b[0m\u001b[1mLayer (type)                   \u001b[0m\u001b[1m \u001b[0m┃\u001b[1m \u001b[0m\u001b[1mOutput Shape          \u001b[0m\u001b[1m \u001b[0m┃\u001b[1m \u001b[0m\u001b[1m      Param #\u001b[0m\u001b[1m \u001b[0m┃\n",
       "┡━━━━━━━━━━━━━━━━━━━━━━━━━━━━━━━━━╇━━━━━━━━━━━━━━━━━━━━━━━━╇━━━━━━━━━━━━━━━┩\n",
       "│ flatten (\u001b[38;5;33mFlatten\u001b[0m)               │ (\u001b[38;5;45mNone\u001b[0m, \u001b[38;5;34m3072\u001b[0m)           │             \u001b[38;5;34m0\u001b[0m │\n",
       "├─────────────────────────────────┼────────────────────────┼───────────────┤\n",
       "│ dense (\u001b[38;5;33mDense\u001b[0m)                   │ (\u001b[38;5;45mNone\u001b[0m, \u001b[38;5;34m512\u001b[0m)            │     \u001b[38;5;34m1,573,376\u001b[0m │\n",
       "├─────────────────────────────────┼────────────────────────┼───────────────┤\n",
       "│ dropout (\u001b[38;5;33mDropout\u001b[0m)               │ (\u001b[38;5;45mNone\u001b[0m, \u001b[38;5;34m512\u001b[0m)            │             \u001b[38;5;34m0\u001b[0m │\n",
       "├─────────────────────────────────┼────────────────────────┼───────────────┤\n",
       "│ dense_1 (\u001b[38;5;33mDense\u001b[0m)                 │ (\u001b[38;5;45mNone\u001b[0m, \u001b[38;5;34m128\u001b[0m)            │        \u001b[38;5;34m65,664\u001b[0m │\n",
       "├─────────────────────────────────┼────────────────────────┼───────────────┤\n",
       "│ dropout_1 (\u001b[38;5;33mDropout\u001b[0m)             │ (\u001b[38;5;45mNone\u001b[0m, \u001b[38;5;34m128\u001b[0m)            │             \u001b[38;5;34m0\u001b[0m │\n",
       "├─────────────────────────────────┼────────────────────────┼───────────────┤\n",
       "│ dense_2 (\u001b[38;5;33mDense\u001b[0m)                 │ (\u001b[38;5;45mNone\u001b[0m, \u001b[38;5;34m10\u001b[0m)             │         \u001b[38;5;34m1,290\u001b[0m │\n",
       "└─────────────────────────────────┴────────────────────────┴───────────────┘\n"
      ]
     },
     "metadata": {},
     "output_type": "display_data"
    },
    {
     "data": {
      "text/html": [
       "<pre style=\"white-space:pre;overflow-x:auto;line-height:normal;font-family:Menlo,'DejaVu Sans Mono',consolas,'Courier New',monospace\"><span style=\"font-weight: bold\"> Total params: </span><span style=\"color: #00af00; text-decoration-color: #00af00\">1,640,330</span> (6.26 MB)\n",
       "</pre>\n"
      ],
      "text/plain": [
       "\u001b[1m Total params: \u001b[0m\u001b[38;5;34m1,640,330\u001b[0m (6.26 MB)\n"
      ]
     },
     "metadata": {},
     "output_type": "display_data"
    },
    {
     "data": {
      "text/html": [
       "<pre style=\"white-space:pre;overflow-x:auto;line-height:normal;font-family:Menlo,'DejaVu Sans Mono',consolas,'Courier New',monospace\"><span style=\"font-weight: bold\"> Trainable params: </span><span style=\"color: #00af00; text-decoration-color: #00af00\">1,640,330</span> (6.26 MB)\n",
       "</pre>\n"
      ],
      "text/plain": [
       "\u001b[1m Trainable params: \u001b[0m\u001b[38;5;34m1,640,330\u001b[0m (6.26 MB)\n"
      ]
     },
     "metadata": {},
     "output_type": "display_data"
    },
    {
     "data": {
      "text/html": [
       "<pre style=\"white-space:pre;overflow-x:auto;line-height:normal;font-family:Menlo,'DejaVu Sans Mono',consolas,'Courier New',monospace\"><span style=\"font-weight: bold\"> Non-trainable params: </span><span style=\"color: #00af00; text-decoration-color: #00af00\">0</span> (0.00 B)\n",
       "</pre>\n"
      ],
      "text/plain": [
       "\u001b[1m Non-trainable params: \u001b[0m\u001b[38;5;34m0\u001b[0m (0.00 B)\n"
      ]
     },
     "metadata": {},
     "output_type": "display_data"
    }
   ],
   "source": [
    "model1.summary()"
   ]
  },
  {
   "cell_type": "code",
   "execution_count": 20,
   "metadata": {
    "id": "YUXW8D25D77i"
   },
   "outputs": [],
   "source": [
    "model1.compile(optimizer='adam', loss='categorical_crossentropy', metrics=['accuracy'])"
   ]
  },
  {
   "cell_type": "markdown",
   "metadata": {
    "id": "xHssen_FEtKz"
   },
   "source": [
    "# Training model"
   ]
  },
  {
   "cell_type": "code",
   "execution_count": 21,
   "metadata": {
    "colab": {
     "base_uri": "https://localhost:8080/"
    },
    "id": "2ci3UMdMEheq",
    "outputId": "96f7b13c-c473-4f3a-fb12-48f7847b92fb"
   },
   "outputs": [
    {
     "name": "stdout",
     "output_type": "stream",
     "text": [
      "Epoch 1/50\n",
      "\u001b[1m1250/1250\u001b[0m \u001b[32m━━━━━━━━━━━━━━━━━━━━\u001b[0m\u001b[37m\u001b[0m \u001b[1m8s\u001b[0m 4ms/step - accuracy: 0.1859 - loss: 2.2310 - val_accuracy: 0.2843 - val_loss: 1.9949\n",
      "Epoch 2/50\n",
      "\u001b[1m1250/1250\u001b[0m \u001b[32m━━━━━━━━━━━━━━━━━━━━\u001b[0m\u001b[37m\u001b[0m \u001b[1m3s\u001b[0m 3ms/step - accuracy: 0.2516 - loss: 1.9938 - val_accuracy: 0.3257 - val_loss: 1.8995\n",
      "Epoch 3/50\n",
      "\u001b[1m1250/1250\u001b[0m \u001b[32m━━━━━━━━━━━━━━━━━━━━\u001b[0m\u001b[37m\u001b[0m \u001b[1m4s\u001b[0m 3ms/step - accuracy: 0.2692 - loss: 1.9543 - val_accuracy: 0.3323 - val_loss: 1.9002\n",
      "Epoch 4/50\n",
      "\u001b[1m1250/1250\u001b[0m \u001b[32m━━━━━━━━━━━━━━━━━━━━\u001b[0m\u001b[37m\u001b[0m \u001b[1m4s\u001b[0m 3ms/step - accuracy: 0.2769 - loss: 1.9363 - val_accuracy: 0.3150 - val_loss: 1.9127\n",
      "Epoch 5/50\n",
      "\u001b[1m1250/1250\u001b[0m \u001b[32m━━━━━━━━━━━━━━━━━━━━\u001b[0m\u001b[37m\u001b[0m \u001b[1m5s\u001b[0m 3ms/step - accuracy: 0.2902 - loss: 1.9199 - val_accuracy: 0.3307 - val_loss: 1.8840\n",
      "Epoch 6/50\n",
      "\u001b[1m1250/1250\u001b[0m \u001b[32m━━━━━━━━━━━━━━━━━━━━\u001b[0m\u001b[37m\u001b[0m \u001b[1m4s\u001b[0m 3ms/step - accuracy: 0.2954 - loss: 1.9107 - val_accuracy: 0.3364 - val_loss: 1.8801\n",
      "Epoch 7/50\n",
      "\u001b[1m1250/1250\u001b[0m \u001b[32m━━━━━━━━━━━━━━━━━━━━\u001b[0m\u001b[37m\u001b[0m \u001b[1m4s\u001b[0m 3ms/step - accuracy: 0.2950 - loss: 1.9033 - val_accuracy: 0.3482 - val_loss: 1.8607\n",
      "Epoch 8/50\n",
      "\u001b[1m1250/1250\u001b[0m \u001b[32m━━━━━━━━━━━━━━━━━━━━\u001b[0m\u001b[37m\u001b[0m \u001b[1m4s\u001b[0m 3ms/step - accuracy: 0.3092 - loss: 1.8877 - val_accuracy: 0.3485 - val_loss: 1.8832\n",
      "Epoch 9/50\n",
      "\u001b[1m1250/1250\u001b[0m \u001b[32m━━━━━━━━━━━━━━━━━━━━\u001b[0m\u001b[37m\u001b[0m \u001b[1m4s\u001b[0m 3ms/step - accuracy: 0.3070 - loss: 1.8779 - val_accuracy: 0.3613 - val_loss: 1.8460\n",
      "Epoch 10/50\n",
      "\u001b[1m1250/1250\u001b[0m \u001b[32m━━━━━━━━━━━━━━━━━━━━\u001b[0m\u001b[37m\u001b[0m \u001b[1m4s\u001b[0m 3ms/step - accuracy: 0.3031 - loss: 1.8840 - val_accuracy: 0.3421 - val_loss: 1.8691\n",
      "Epoch 11/50\n",
      "\u001b[1m1250/1250\u001b[0m \u001b[32m━━━━━━━━━━━━━━━━━━━━\u001b[0m\u001b[37m\u001b[0m \u001b[1m4s\u001b[0m 3ms/step - accuracy: 0.3065 - loss: 1.8710 - val_accuracy: 0.3581 - val_loss: 1.8379\n",
      "Epoch 12/50\n",
      "\u001b[1m1250/1250\u001b[0m \u001b[32m━━━━━━━━━━━━━━━━━━━━\u001b[0m\u001b[37m\u001b[0m \u001b[1m5s\u001b[0m 3ms/step - accuracy: 0.3164 - loss: 1.8579 - val_accuracy: 0.3720 - val_loss: 1.8323\n",
      "Epoch 13/50\n",
      "\u001b[1m1250/1250\u001b[0m \u001b[32m━━━━━━━━━━━━━━━━━━━━\u001b[0m\u001b[37m\u001b[0m \u001b[1m4s\u001b[0m 3ms/step - accuracy: 0.3209 - loss: 1.8625 - val_accuracy: 0.3560 - val_loss: 1.8415\n",
      "Epoch 14/50\n",
      "\u001b[1m1250/1250\u001b[0m \u001b[32m━━━━━━━━━━━━━━━━━━━━\u001b[0m\u001b[37m\u001b[0m \u001b[1m4s\u001b[0m 3ms/step - accuracy: 0.3156 - loss: 1.8695 - val_accuracy: 0.3697 - val_loss: 1.8558\n",
      "Epoch 15/50\n",
      "\u001b[1m1250/1250\u001b[0m \u001b[32m━━━━━━━━━━━━━━━━━━━━\u001b[0m\u001b[37m\u001b[0m \u001b[1m4s\u001b[0m 3ms/step - accuracy: 0.3225 - loss: 1.8451 - val_accuracy: 0.3365 - val_loss: 1.8519\n",
      "Epoch 16/50\n",
      "\u001b[1m1250/1250\u001b[0m \u001b[32m━━━━━━━━━━━━━━━━━━━━\u001b[0m\u001b[37m\u001b[0m \u001b[1m5s\u001b[0m 4ms/step - accuracy: 0.3237 - loss: 1.8496 - val_accuracy: 0.3560 - val_loss: 1.8373\n",
      "Epoch 17/50\n",
      "\u001b[1m1250/1250\u001b[0m \u001b[32m━━━━━━━━━━━━━━━━━━━━\u001b[0m\u001b[37m\u001b[0m \u001b[1m4s\u001b[0m 3ms/step - accuracy: 0.3183 - loss: 1.8447 - val_accuracy: 0.3639 - val_loss: 1.8305\n",
      "Epoch 18/50\n",
      "\u001b[1m1250/1250\u001b[0m \u001b[32m━━━━━━━━━━━━━━━━━━━━\u001b[0m\u001b[37m\u001b[0m \u001b[1m4s\u001b[0m 3ms/step - accuracy: 0.3274 - loss: 1.8427 - val_accuracy: 0.3428 - val_loss: 1.8804\n",
      "Epoch 19/50\n",
      "\u001b[1m1250/1250\u001b[0m \u001b[32m━━━━━━━━━━━━━━━━━━━━\u001b[0m\u001b[37m\u001b[0m \u001b[1m4s\u001b[0m 3ms/step - accuracy: 0.3235 - loss: 1.8439 - val_accuracy: 0.3574 - val_loss: 1.8372\n",
      "Epoch 20/50\n",
      "\u001b[1m1250/1250\u001b[0m \u001b[32m━━━━━━━━━━━━━━━━━━━━\u001b[0m\u001b[37m\u001b[0m \u001b[1m4s\u001b[0m 3ms/step - accuracy: 0.3304 - loss: 1.8380 - val_accuracy: 0.3809 - val_loss: 1.7993\n",
      "Epoch 21/50\n",
      "\u001b[1m1250/1250\u001b[0m \u001b[32m━━━━━━━━━━━━━━━━━━━━\u001b[0m\u001b[37m\u001b[0m \u001b[1m4s\u001b[0m 3ms/step - accuracy: 0.3261 - loss: 1.8375 - val_accuracy: 0.3725 - val_loss: 1.8281\n",
      "Epoch 22/50\n",
      "\u001b[1m1250/1250\u001b[0m \u001b[32m━━━━━━━━━━━━━━━━━━━━\u001b[0m\u001b[37m\u001b[0m \u001b[1m4s\u001b[0m 3ms/step - accuracy: 0.3315 - loss: 1.8391 - val_accuracy: 0.3700 - val_loss: 1.8130\n",
      "Epoch 23/50\n",
      "\u001b[1m1250/1250\u001b[0m \u001b[32m━━━━━━━━━━━━━━━━━━━━\u001b[0m\u001b[37m\u001b[0m \u001b[1m4s\u001b[0m 3ms/step - accuracy: 0.3319 - loss: 1.8316 - val_accuracy: 0.3443 - val_loss: 1.8707\n",
      "Epoch 24/50\n",
      "\u001b[1m1250/1250\u001b[0m \u001b[32m━━━━━━━━━━━━━━━━━━━━\u001b[0m\u001b[37m\u001b[0m \u001b[1m4s\u001b[0m 3ms/step - accuracy: 0.3315 - loss: 1.8342 - val_accuracy: 0.3671 - val_loss: 1.8133\n",
      "Epoch 25/50\n",
      "\u001b[1m1250/1250\u001b[0m \u001b[32m━━━━━━━━━━━━━━━━━━━━\u001b[0m\u001b[37m\u001b[0m \u001b[1m4s\u001b[0m 3ms/step - accuracy: 0.3343 - loss: 1.8287 - val_accuracy: 0.3502 - val_loss: 1.8276\n",
      "Epoch 26/50\n",
      "\u001b[1m1250/1250\u001b[0m \u001b[32m━━━━━━━━━━━━━━━━━━━━\u001b[0m\u001b[37m\u001b[0m \u001b[1m4s\u001b[0m 3ms/step - accuracy: 0.3294 - loss: 1.8346 - val_accuracy: 0.3541 - val_loss: 1.8481\n",
      "Epoch 27/50\n",
      "\u001b[1m1250/1250\u001b[0m \u001b[32m━━━━━━━━━━━━━━━━━━━━\u001b[0m\u001b[37m\u001b[0m \u001b[1m4s\u001b[0m 3ms/step - accuracy: 0.3363 - loss: 1.8261 - val_accuracy: 0.3513 - val_loss: 1.8381\n",
      "Epoch 28/50\n",
      "\u001b[1m1250/1250\u001b[0m \u001b[32m━━━━━━━━━━━━━━━━━━━━\u001b[0m\u001b[37m\u001b[0m \u001b[1m4s\u001b[0m 3ms/step - accuracy: 0.3350 - loss: 1.8278 - val_accuracy: 0.3633 - val_loss: 1.8332\n",
      "Epoch 29/50\n",
      "\u001b[1m1250/1250\u001b[0m \u001b[32m━━━━━━━━━━━━━━━━━━━━\u001b[0m\u001b[37m\u001b[0m \u001b[1m4s\u001b[0m 3ms/step - accuracy: 0.3348 - loss: 1.8261 - val_accuracy: 0.3608 - val_loss: 1.8333\n",
      "Epoch 30/50\n",
      "\u001b[1m1250/1250\u001b[0m \u001b[32m━━━━━━━━━━━━━━━━━━━━\u001b[0m\u001b[37m\u001b[0m \u001b[1m4s\u001b[0m 3ms/step - accuracy: 0.3394 - loss: 1.8135 - val_accuracy: 0.3768 - val_loss: 1.8312\n",
      "Epoch 31/50\n",
      "\u001b[1m1250/1250\u001b[0m \u001b[32m━━━━━━━━━━━━━━━━━━━━\u001b[0m\u001b[37m\u001b[0m \u001b[1m4s\u001b[0m 3ms/step - accuracy: 0.3378 - loss: 1.8099 - val_accuracy: 0.3623 - val_loss: 1.8431\n",
      "Epoch 32/50\n",
      "\u001b[1m1250/1250\u001b[0m \u001b[32m━━━━━━━━━━━━━━━━━━━━\u001b[0m\u001b[37m\u001b[0m \u001b[1m4s\u001b[0m 3ms/step - accuracy: 0.3367 - loss: 1.8196 - val_accuracy: 0.3707 - val_loss: 1.8194\n",
      "Epoch 33/50\n",
      "\u001b[1m1250/1250\u001b[0m \u001b[32m━━━━━━━━━━━━━━━━━━━━\u001b[0m\u001b[37m\u001b[0m \u001b[1m4s\u001b[0m 3ms/step - accuracy: 0.3422 - loss: 1.8068 - val_accuracy: 0.3476 - val_loss: 1.8032\n",
      "Epoch 34/50\n",
      "\u001b[1m1250/1250\u001b[0m \u001b[32m━━━━━━━━━━━━━━━━━━━━\u001b[0m\u001b[37m\u001b[0m \u001b[1m4s\u001b[0m 3ms/step - accuracy: 0.3440 - loss: 1.7989 - val_accuracy: 0.3785 - val_loss: 1.8070\n",
      "Epoch 35/50\n",
      "\u001b[1m1250/1250\u001b[0m \u001b[32m━━━━━━━━━━━━━━━━━━━━\u001b[0m\u001b[37m\u001b[0m \u001b[1m4s\u001b[0m 3ms/step - accuracy: 0.3395 - loss: 1.8147 - val_accuracy: 0.3733 - val_loss: 1.8211\n",
      "Epoch 36/50\n",
      "\u001b[1m1250/1250\u001b[0m \u001b[32m━━━━━━━━━━━━━━━━━━━━\u001b[0m\u001b[37m\u001b[0m \u001b[1m4s\u001b[0m 3ms/step - accuracy: 0.3474 - loss: 1.7989 - val_accuracy: 0.3755 - val_loss: 1.7933\n",
      "Epoch 37/50\n",
      "\u001b[1m1250/1250\u001b[0m \u001b[32m━━━━━━━━━━━━━━━━━━━━\u001b[0m\u001b[37m\u001b[0m \u001b[1m4s\u001b[0m 3ms/step - accuracy: 0.3428 - loss: 1.8053 - val_accuracy: 0.3714 - val_loss: 1.8289\n",
      "Epoch 38/50\n",
      "\u001b[1m1250/1250\u001b[0m \u001b[32m━━━━━━━━━━━━━━━━━━━━\u001b[0m\u001b[37m\u001b[0m \u001b[1m4s\u001b[0m 3ms/step - accuracy: 0.3458 - loss: 1.7915 - val_accuracy: 0.3611 - val_loss: 1.8305\n",
      "Epoch 39/50\n",
      "\u001b[1m1250/1250\u001b[0m \u001b[32m━━━━━━━━━━━━━━━━━━━━\u001b[0m\u001b[37m\u001b[0m \u001b[1m4s\u001b[0m 3ms/step - accuracy: 0.3466 - loss: 1.8009 - val_accuracy: 0.3695 - val_loss: 1.7928\n",
      "Epoch 40/50\n",
      "\u001b[1m1250/1250\u001b[0m \u001b[32m━━━━━━━━━━━━━━━━━━━━\u001b[0m\u001b[37m\u001b[0m \u001b[1m4s\u001b[0m 3ms/step - accuracy: 0.3489 - loss: 1.7896 - val_accuracy: 0.3690 - val_loss: 1.7946\n",
      "Epoch 41/50\n",
      "\u001b[1m1250/1250\u001b[0m \u001b[32m━━━━━━━━━━━━━━━━━━━━\u001b[0m\u001b[37m\u001b[0m \u001b[1m4s\u001b[0m 3ms/step - accuracy: 0.3504 - loss: 1.7938 - val_accuracy: 0.3660 - val_loss: 1.8177\n",
      "Epoch 42/50\n",
      "\u001b[1m1250/1250\u001b[0m \u001b[32m━━━━━━━━━━━━━━━━━━━━\u001b[0m\u001b[37m\u001b[0m \u001b[1m4s\u001b[0m 3ms/step - accuracy: 0.3449 - loss: 1.8093 - val_accuracy: 0.3805 - val_loss: 1.8048\n",
      "Epoch 43/50\n",
      "\u001b[1m1250/1250\u001b[0m \u001b[32m━━━━━━━━━━━━━━━━━━━━\u001b[0m\u001b[37m\u001b[0m \u001b[1m4s\u001b[0m 3ms/step - accuracy: 0.3495 - loss: 1.7915 - val_accuracy: 0.3627 - val_loss: 1.8061\n",
      "Epoch 44/50\n",
      "\u001b[1m1250/1250\u001b[0m \u001b[32m━━━━━━━━━━━━━━━━━━━━\u001b[0m\u001b[37m\u001b[0m \u001b[1m4s\u001b[0m 3ms/step - accuracy: 0.3459 - loss: 1.7979 - val_accuracy: 0.3640 - val_loss: 1.8230\n",
      "Epoch 45/50\n",
      "\u001b[1m1250/1250\u001b[0m \u001b[32m━━━━━━━━━━━━━━━━━━━━\u001b[0m\u001b[37m\u001b[0m \u001b[1m4s\u001b[0m 3ms/step - accuracy: 0.3462 - loss: 1.7945 - val_accuracy: 0.3848 - val_loss: 1.8082\n",
      "Epoch 46/50\n",
      "\u001b[1m1250/1250\u001b[0m \u001b[32m━━━━━━━━━━━━━━━━━━━━\u001b[0m\u001b[37m\u001b[0m \u001b[1m4s\u001b[0m 3ms/step - accuracy: 0.3503 - loss: 1.7894 - val_accuracy: 0.3475 - val_loss: 1.8294\n",
      "Epoch 47/50\n",
      "\u001b[1m1250/1250\u001b[0m \u001b[32m━━━━━━━━━━━━━━━━━━━━\u001b[0m\u001b[37m\u001b[0m \u001b[1m4s\u001b[0m 3ms/step - accuracy: 0.3476 - loss: 1.7983 - val_accuracy: 0.3772 - val_loss: 1.8025\n",
      "Epoch 48/50\n",
      "\u001b[1m1250/1250\u001b[0m \u001b[32m━━━━━━━━━━━━━━━━━━━━\u001b[0m\u001b[37m\u001b[0m \u001b[1m4s\u001b[0m 3ms/step - accuracy: 0.3513 - loss: 1.7826 - val_accuracy: 0.3711 - val_loss: 1.8010\n",
      "Epoch 49/50\n",
      "\u001b[1m1250/1250\u001b[0m \u001b[32m━━━━━━━━━━━━━━━━━━━━\u001b[0m\u001b[37m\u001b[0m \u001b[1m4s\u001b[0m 3ms/step - accuracy: 0.3524 - loss: 1.7805 - val_accuracy: 0.3612 - val_loss: 1.8212\n",
      "Epoch 50/50\n",
      "\u001b[1m1250/1250\u001b[0m \u001b[32m━━━━━━━━━━━━━━━━━━━━\u001b[0m\u001b[37m\u001b[0m \u001b[1m4s\u001b[0m 3ms/step - accuracy: 0.3452 - loss: 1.7989 - val_accuracy: 0.3781 - val_loss: 1.8142\n"
     ]
    }
   ],
   "source": [
    "history1 = model1.fit(x_train, y_train_categorical, epochs=50, validation_split=0.2)"
   ]
  },
  {
   "cell_type": "code",
   "execution_count": 22,
   "metadata": {
    "id": "cyLFUw1rFotO"
   },
   "outputs": [],
   "source": [
    "# history1.history['accuracy']"
   ]
  },
  {
   "cell_type": "code",
   "execution_count": 23,
   "metadata": {
    "colab": {
     "base_uri": "https://localhost:8080/",
     "height": 504
    },
    "id": "xEkyeOoPFziK",
    "outputId": "0f1098fc-43ba-4070-dddd-e6dd5df43c04"
   },
   "outputs": [
    {
     "data": {
      "text/plain": [
       "Text(0.5, 0, 'epoch')"
      ]
     },
     "execution_count": 23,
     "metadata": {},
     "output_type": "execute_result"
    },
    {
     "data": {
      "image/png": "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\n",
      "text/plain": [
       "<Figure size 1000x500 with 2 Axes>"
      ]
     },
     "metadata": {},
     "output_type": "display_data"
    }
   ],
   "source": [
    "plt.figure(figsize=(10,5))\n",
    "plt.subplot(1,2,1)\n",
    "plt.plot(history1.history['accuracy'])\n",
    "plt.plot(history1.history['val_accuracy'])\n",
    "plt.title('model ANN accuracy')\n",
    "plt.ylabel('accuracy')\n",
    "plt.xlabel('epoch')\n",
    "plt.legend(['train', 'val'], loc='upper left')\n",
    "\n",
    "plt.subplot(1,2,2)\n",
    "plt.plot(history1.history['loss'])\n",
    "plt.plot(history1.history['val_loss'])\n",
    "plt.title('model ANN loss')\n",
    "plt.ylabel('loss')\n",
    "plt.xlabel('epoch')"
   ]
  },
  {
   "cell_type": "code",
   "execution_count": 24,
   "metadata": {
    "colab": {
     "base_uri": "https://localhost:8080/"
    },
    "id": "wnfhmDFtJuM9",
    "outputId": "4a56afcf-42dc-4845-c37a-1285f197dd48"
   },
   "outputs": [
    {
     "data": {
      "text/plain": [
       "[array([[[0.61960787, 0.4392157 , 0.19215687],\n",
       "         [0.62352943, 0.43529412, 0.18431373],\n",
       "         [0.64705884, 0.45490196, 0.2       ],\n",
       "         ...,\n",
       "         [0.5372549 , 0.37254903, 0.14117648],\n",
       "         [0.49411765, 0.35686275, 0.14117648],\n",
       "         [0.45490196, 0.33333334, 0.12941177]],\n",
       " \n",
       "        [[0.59607846, 0.4392157 , 0.2       ],\n",
       "         [0.5921569 , 0.43137255, 0.15686275],\n",
       "         [0.62352943, 0.44705883, 0.1764706 ],\n",
       "         ...,\n",
       "         [0.53333336, 0.37254903, 0.12156863],\n",
       "         [0.49019608, 0.35686275, 0.1254902 ],\n",
       "         [0.46666667, 0.34509805, 0.13333334]],\n",
       " \n",
       "        [[0.5921569 , 0.43137255, 0.18431373],\n",
       "         [0.5921569 , 0.42745098, 0.12941177],\n",
       "         [0.61960787, 0.43529412, 0.14117648],\n",
       "         ...,\n",
       "         [0.54509807, 0.38431373, 0.13333334],\n",
       "         [0.50980395, 0.37254903, 0.13333334],\n",
       "         [0.47058824, 0.34901962, 0.12941177]],\n",
       " \n",
       "        ...,\n",
       " \n",
       "        [[0.26666668, 0.4862745 , 0.69411767],\n",
       "         [0.16470589, 0.39215687, 0.5803922 ],\n",
       "         [0.12156863, 0.34509805, 0.5372549 ],\n",
       "         ...,\n",
       "         [0.14901961, 0.38039216, 0.57254905],\n",
       "         [0.05098039, 0.2509804 , 0.42352942],\n",
       "         [0.15686275, 0.33333334, 0.49803922]],\n",
       " \n",
       "        [[0.23921569, 0.45490196, 0.65882355],\n",
       "         [0.19215687, 0.4       , 0.5803922 ],\n",
       "         [0.13725491, 0.33333334, 0.5176471 ],\n",
       "         ...,\n",
       "         [0.10196079, 0.32156864, 0.50980395],\n",
       "         [0.11372549, 0.32156864, 0.49411765],\n",
       "         [0.07843138, 0.2509804 , 0.41960785]],\n",
       " \n",
       "        [[0.21176471, 0.41960785, 0.627451  ],\n",
       "         [0.21960784, 0.4117647 , 0.58431375],\n",
       "         [0.1764706 , 0.34901962, 0.5176471 ],\n",
       "         ...,\n",
       "         [0.09411765, 0.3019608 , 0.4862745 ],\n",
       "         [0.13333334, 0.32941177, 0.5058824 ],\n",
       "         [0.08235294, 0.2627451 , 0.43137255]]], dtype=float32)]"
      ]
     },
     "execution_count": 24,
     "metadata": {},
     "output_type": "execute_result"
    }
   ],
   "source": [
    "[x_test[0]]"
   ]
  },
  {
   "cell_type": "code",
   "execution_count": 25,
   "metadata": {
    "colab": {
     "base_uri": "https://localhost:8080/"
    },
    "id": "ieNgzCf2GA-w",
    "outputId": "fc7b42cb-b4e7-4922-f841-8022cbbedeb0"
   },
   "outputs": [
    {
     "name": "stdout",
     "output_type": "stream",
     "text": [
      "\u001b[1m1/1\u001b[0m \u001b[32m━━━━━━━━━━━━━━━━━━━━\u001b[0m\u001b[37m\u001b[0m \u001b[1m0s\u001b[0m 495ms/step\n",
      "[[0.08537686 0.06199095 0.07179014 0.239644   0.0564432  0.19665505\n",
      "  0.09380689 0.04142467 0.10222232 0.05064586]]\n"
     ]
    }
   ],
   "source": [
    "#prediction\n",
    "print(model1.predict(np.array([x_test[0]])))"
   ]
  },
  {
   "cell_type": "code",
   "execution_count": 26,
   "metadata": {
    "colab": {
     "base_uri": "https://localhost:8080/"
    },
    "id": "jYLnjDHbJ_5q",
    "outputId": "68728afe-b509-47fb-b1e6-4cd6547d4fe8"
   },
   "outputs": [
    {
     "name": "stdout",
     "output_type": "stream",
     "text": [
      "\u001b[1m1/1\u001b[0m \u001b[32m━━━━━━━━━━━━━━━━━━━━\u001b[0m\u001b[37m\u001b[0m \u001b[1m0s\u001b[0m 43ms/step\n",
      "3\n"
     ]
    }
   ],
   "source": [
    "print(np.argmax(model1.predict(np.array([x_test[0]]))))"
   ]
  },
  {
   "cell_type": "code",
   "execution_count": 27,
   "metadata": {
    "colab": {
     "base_uri": "https://localhost:8080/"
    },
    "id": "vTPx0KiQIWS9",
    "outputId": "b7298369-3afe-4d42-a188-6c4b70e21579"
   },
   "outputs": [
    {
     "name": "stdout",
     "output_type": "stream",
     "text": [
      "\u001b[1m1/1\u001b[0m \u001b[32m━━━━━━━━━━━━━━━━━━━━\u001b[0m\u001b[37m\u001b[0m \u001b[1m0s\u001b[0m 47ms/step\n"
     ]
    },
    {
     "data": {
      "text/plain": [
       "array([[0.1968483 , 0.13141912, 0.07876728, 0.04265898, 0.04052059,\n",
       "        0.02796739, 0.01483443, 0.05354438, 0.24193214, 0.17150734]],\n",
       "      dtype=float32)"
      ]
     },
     "execution_count": 27,
     "metadata": {},
     "output_type": "execute_result"
    }
   ],
   "source": [
    "model1.predict(np.array([x_test[2]]))"
   ]
  },
  {
   "cell_type": "code",
   "execution_count": 28,
   "metadata": {
    "colab": {
     "base_uri": "https://localhost:8080/"
    },
    "id": "62iqEdIRKuHz",
    "outputId": "1a74119a-6cd5-4819-8d1f-e39eb527361b"
   },
   "outputs": [
    {
     "name": "stdout",
     "output_type": "stream",
     "text": [
      "\u001b[1m1/1\u001b[0m \u001b[32m━━━━━━━━━━━━━━━━━━━━\u001b[0m\u001b[37m\u001b[0m \u001b[1m0s\u001b[0m 28ms/step\n",
      "8\n"
     ]
    }
   ],
   "source": [
    "print(np.argmax(model1.predict(np.array([x_test[2]]))))"
   ]
  },
  {
   "cell_type": "code",
   "execution_count": 29,
   "metadata": {
    "colab": {
     "base_uri": "https://localhost:8080/"
    },
    "id": "o6bNDLSkJDk_",
    "outputId": "f890d61f-3315-4387-debe-dde73d4f4a25"
   },
   "outputs": [
    {
     "name": "stdout",
     "output_type": "stream",
     "text": [
      "\u001b[1m313/313\u001b[0m \u001b[32m━━━━━━━━━━━━━━━━━━━━\u001b[0m\u001b[37m\u001b[0m \u001b[1m1s\u001b[0m 2ms/step\n"
     ]
    }
   ],
   "source": [
    "y_pred = model1.predict(x_test)"
   ]
  },
  {
   "cell_type": "code",
   "execution_count": 30,
   "metadata": {
    "colab": {
     "base_uri": "https://localhost:8080/"
    },
    "id": "ALEhFHlbKO7Y",
    "outputId": "6b44a48d-abd9-47e6-b8e3-f3efc0336c36"
   },
   "outputs": [
    {
     "data": {
      "text/plain": [
       "array([[0.08537684, 0.06199094, 0.07179014, 0.23964407, 0.05644319,\n",
       "        0.19665511, 0.09380692, 0.04142466, 0.10222229, 0.05064585],\n",
       "       [0.11886776, 0.19761938, 0.03450682, 0.02121214, 0.01567619,\n",
       "        0.01176409, 0.00776994, 0.0397186 , 0.22597243, 0.3268927 ],\n",
       "       [0.19684833, 0.13141918, 0.07876727, 0.04265895, 0.04052057,\n",
       "        0.02796736, 0.01483441, 0.05354437, 0.24193214, 0.17150743],\n",
       "       [0.17407192, 0.07551181, 0.12202139, 0.08463795, 0.09898681,\n",
       "        0.06427354, 0.03281614, 0.09155472, 0.16037117, 0.0957545 ],\n",
       "       [0.02398011, 0.01517185, 0.20840827, 0.09540333, 0.253573  ,\n",
       "        0.08939756, 0.2159505 , 0.07870123, 0.00651561, 0.01289871]],\n",
       "      dtype=float32)"
      ]
     },
     "execution_count": 30,
     "metadata": {},
     "output_type": "execute_result"
    }
   ],
   "source": [
    "y_pred[:5]"
   ]
  },
  {
   "cell_type": "code",
   "execution_count": 31,
   "metadata": {
    "id": "1TqaHSfjKTUd"
   },
   "outputs": [],
   "source": [
    "y_out = np.argmax(y_pred, axis=1)"
   ]
  },
  {
   "cell_type": "code",
   "execution_count": 32,
   "metadata": {
    "colab": {
     "base_uri": "https://localhost:8080/"
    },
    "id": "BDJEWu0CK8Ms",
    "outputId": "e50b751a-de74-4303-c502-3529d71cc8d6"
   },
   "outputs": [
    {
     "data": {
      "text/plain": [
       "array([3, 9, 8, 0, 4])"
      ]
     },
     "execution_count": 32,
     "metadata": {},
     "output_type": "execute_result"
    }
   ],
   "source": [
    "y_out[:5]"
   ]
  },
  {
   "cell_type": "code",
   "execution_count": 33,
   "metadata": {
    "colab": {
     "base_uri": "https://localhost:8080/"
    },
    "id": "fVTkKrV1LFjF",
    "outputId": "0571c482-09a4-45c9-d425-28d4de9e33d4"
   },
   "outputs": [
    {
     "data": {
      "text/plain": [
       "array([[3],\n",
       "       [8],\n",
       "       [8],\n",
       "       [0],\n",
       "       [6]], dtype=uint8)"
      ]
     },
     "execution_count": 33,
     "metadata": {},
     "output_type": "execute_result"
    }
   ],
   "source": [
    "y_test[:5]"
   ]
  },
  {
   "cell_type": "code",
   "execution_count": 34,
   "metadata": {
    "id": "QPe7ZsqLK91l"
   },
   "outputs": [],
   "source": [
    "from sklearn.metrics import classification_report"
   ]
  },
  {
   "cell_type": "code",
   "execution_count": 35,
   "metadata": {
    "colab": {
     "base_uri": "https://localhost:8080/"
    },
    "id": "B-mSYj0DLD52",
    "outputId": "176b6336-6f62-4595-d002-106e9ceaca37"
   },
   "outputs": [
    {
     "name": "stdout",
     "output_type": "stream",
     "text": [
      "              precision    recall  f1-score   support\n",
      "\n",
      "           0       0.54      0.33      0.41      1000\n",
      "           1       0.60      0.44      0.50      1000\n",
      "           2       0.44      0.02      0.04      1000\n",
      "           3       0.21      0.35      0.26      1000\n",
      "           4       0.31      0.39      0.34      1000\n",
      "           5       0.44      0.23      0.30      1000\n",
      "           6       0.39      0.59      0.47      1000\n",
      "           7       0.39      0.53      0.45      1000\n",
      "           8       0.50      0.40      0.44      1000\n",
      "           9       0.40      0.55      0.46      1000\n",
      "\n",
      "    accuracy                           0.38     10000\n",
      "   macro avg       0.42      0.38      0.37     10000\n",
      "weighted avg       0.42      0.38      0.37     10000\n",
      "\n"
     ]
    }
   ],
   "source": [
    "print(classification_report(y_test, y_out))"
   ]
  },
  {
   "cell_type": "code",
   "execution_count": 35,
   "metadata": {
    "id": "Y4PDGnSWLO6V"
   },
   "outputs": [],
   "source": []
  }
 ],
 "metadata": {
  "accelerator": "GPU",
  "colab": {
   "gpuType": "T4",
   "provenance": []
  },
  "kernelspec": {
   "display_name": "Python 3 (ipykernel)",
   "language": "python",
   "name": "python3"
  },
  "language_info": {
   "codemirror_mode": {
    "name": "ipython",
    "version": 3
   },
   "file_extension": ".py",
   "mimetype": "text/x-python",
   "name": "python",
   "nbconvert_exporter": "python",
   "pygments_lexer": "ipython3",
   "version": "3.9.21"
  }
 },
 "nbformat": 4,
 "nbformat_minor": 4
}

  "nbformat": 4,
  "nbformat_minor": 0,
  "metadata": {
    "colab": {
      "provenance": [],
      "gpuType": "T4"
    },
    "kernelspec": {
      "name": "python3",
      "display_name": "Python 3"
    },
    "language_info": {
      "name": "python"
    },
    "accelerator": "GPU"
  },
  "cells": [
    {
      "cell_type": "code",
      "source": [
        "from tensorflow.keras.datasets import cifar10"
      ],
      "metadata": {
        "id": "sL-Vs8lE9Nhm"
      },
      "execution_count": 1,
      "outputs": []
    },
    {
      "cell_type": "code",
      "execution_count": 2,
      "metadata": {
        "id": "JadStOfc89PN",
        "colab": {
          "base_uri": "https://localhost:8080/"
        },
        "outputId": "c1a04ac5-89ae-4c18-de09-793c14d17efc"
      },
      "outputs": [
        {
          "output_type": "stream",
          "name": "stdout",
          "text": [
            "Downloading data from https://www.cs.toronto.edu/~kriz/cifar-10-python.tar.gz\n",
            "\u001b[1m170498071/170498071\u001b[0m \u001b[32m━━━━━━━━━━━━━━━━━━━━\u001b[0m\u001b[37m\u001b[0m \u001b[1m5s\u001b[0m 0us/step\n"
          ]
        }
      ],
      "source": [
        "(x_train, y_train), (x_test, y_test) = cifar10.load_data()"
      ]
    },
    {
      "cell_type": "code",
      "source": [
        "class_names = ['airplane', 'automobile', 'bird', 'cat', 'deer', 'dog', 'frog', 'horse', 'ship', 'truck']"
      ],
      "metadata": {
        "id": "kN4Acqgt9k1T"
      },
      "execution_count": 3,
      "outputs": []
    },
    {
      "cell_type": "code",
      "source": [
        "print(x_train.shape)\n",
        "print(y_train.shape)\n",
        "print(x_test.shape)\n",
        "print(y_test.shape)"
      ],
      "metadata": {
        "id": "mH0q1HpL-MPA",
        "colab": {
          "base_uri": "https://localhost:8080/"
        },
        "outputId": "49b65c7e-0609-429d-f215-93aebf487fd9"
      },
      "execution_count": 4,
      "outputs": [
        {
          "output_type": "stream",
          "name": "stdout",
          "text": [
            "(50000, 32, 32, 3)\n",
            "(50000, 1)\n",
            "(10000, 32, 32, 3)\n",
            "(10000, 1)\n"
          ]
        }
      ]
    },
    {
      "cell_type": "code",
      "source": [
        "import matplotlib.pyplot as plt"
      ],
      "metadata": {
        "id": "z7CKCz6A-2sg"
      },
      "execution_count": 5,
      "outputs": []
    },
    {
      "cell_type": "code",
      "source": [
        "plt.figure(figsize=(1, 1))\n",
        "plt.imshow(x_train[1])\n",
        "plt.axis(\"off\")\n",
        "plt.show()"
      ],
      "metadata": {
        "id": "R8GX4hFr_IeV",
        "colab": {
          "base_uri": "https://localhost:8080/",
          "height": 114
        },
        "outputId": "c21d0393-d62f-41e3-fba5-8f8190f4cfab"
      },
      "execution_count": 6,
      "outputs": [
        {
          "output_type": "display_data",
          "data": {
            "text/plain": [
              "<Figure size 100x100 with 1 Axes>"
            ],
            "image/png": "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\n"
          },
          "metadata": {}
        }
      ]
    },
    {
      "cell_type": "code",
      "source": [
        "plt.figure(figsize=(1, 1))\n",
        "plt.imshow(x_test[0])\n",
        "plt.axis(\"off\")\n",
        "plt.show()"
      ],
      "metadata": {
        "id": "WWfgHK16_Mge",
        "colab": {
          "base_uri": "https://localhost:8080/",
          "height": 114
        },
        "outputId": "58e78e72-7cd0-4012-ca6e-8dccabd84121"
      },
      "execution_count": 7,
      "outputs": [
        {
          "output_type": "display_data",
          "data": {
            "text/plain": [
              "<Figure size 100x100 with 1 Axes>"
            ],
            "image/png": "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\n"
          },
          "metadata": {}
        }
      ]
    },
    {
      "cell_type": "code",
      "source": [
        "#label\n",
        "print(y_test[0])"
      ],
      "metadata": {
        "id": "uvJk2kI4_fik",
        "colab": {
          "base_uri": "https://localhost:8080/"
        },
        "outputId": "a7465289-d81d-4b87-d954-4c8f12e50f3a"
      },
      "execution_count": 8,
      "outputs": [
        {
          "output_type": "stream",
          "name": "stdout",
          "text": [
            "[3]\n"
          ]
        }
      ]
    },
    {
      "cell_type": "code",
      "source": [
        "y_train[:10]"
      ],
      "metadata": {
        "id": "3htwAUcsAJ_t",
        "colab": {
          "base_uri": "https://localhost:8080/"
        },
        "outputId": "82f232d7-ddfd-45b4-b31a-6b2716effc08"
      },
      "execution_count": 9,
      "outputs": [
        {
          "output_type": "execute_result",
          "data": {
            "text/plain": [
              "array([[6],\n",
              "       [9],\n",
              "       [9],\n",
              "       [4],\n",
              "       [1],\n",
              "       [1],\n",
              "       [2],\n",
              "       [7],\n",
              "       [8],\n",
              "       [3]], dtype=uint8)"
            ]
          },
          "metadata": {},
          "execution_count": 9
        }
      ]
    },
    {
      "cell_type": "code",
      "source": [
        "import tensorflow as tf\n",
        "import keras\n",
        "from keras.models import Sequential\n",
        "from keras.layers import Dense, Flatten, Input,Dropout, BatchNormalization\n",
        "from keras.utils import to_categorical\n",
        "import numpy as np"
      ],
      "metadata": {
        "id": "fQgIegf9_mx6"
      },
      "execution_count": 10,
      "outputs": []
    },
    {
      "cell_type": "markdown",
      "source": [
        "## Data preperation"
      ],
      "metadata": {
        "id": "yKnSg42UAhrp"
      }
    },
    {
      "cell_type": "code",
      "source": [
        "# print(x_train[0])"
      ],
      "metadata": {
        "id": "-PKKkA82A7EI"
      },
      "execution_count": 11,
      "outputs": []
    },
    {
      "cell_type": "code",
      "source": [
        "x_train = x_train.astype('float32')/255\n"
      ],
      "metadata": {
        "id": "C_mImSyiAanQ"
      },
      "execution_count": 12,
      "outputs": []
    },
    {
      "cell_type": "code",
      "source": [
        "x_test = x_test.astype('float32')/255"
      ],
      "metadata": {
        "id": "jovlTUC8J3T6"
      },
      "execution_count": 13,
      "outputs": []
    },
    {
      "cell_type": "markdown",
      "source": [
        "# One hot encode labels"
      ],
      "metadata": {
        "id": "TLDFZf5lBFYx"
      }
    },
    {
      "cell_type": "code",
      "source": [
        "y_train_categorical = to_categorical(y_train, 10)\n",
        "y_test_categorical = to_categorical(y_test, 10)"
      ],
      "metadata": {
        "id": "kUbKYK1ABCsY"
      },
      "execution_count": 14,
      "outputs": []
    },
    {
      "cell_type": "code",
      "source": [
        "y_train_categorical[0]"
      ],
      "metadata": {
        "id": "EGlgNFNfBjX7",
        "colab": {
          "base_uri": "https://localhost:8080/"
        },
        "outputId": "41d94302-95e7-486c-b211-9aa8daaaf900"
      },
      "execution_count": 15,
      "outputs": [
        {
          "output_type": "execute_result",
          "data": {
            "text/plain": [
              "array([0., 0., 0., 0., 0., 0., 1., 0., 0., 0.])"
            ]
          },
          "metadata": {},
          "execution_count": 15
        }
      ]
    },
    {
      "cell_type": "markdown",
      "source": [
        "# Build a Sequential ANN using **Tensorflow**"
      ],
      "metadata": {
        "id": "gnMUlHTwBvN6"
      }
    },
    {
      "cell_type": "code",
      "source": [
        "x_train.shape"
      ],
      "metadata": {
        "id": "ul248Jy9B-ug",
        "colab": {
          "base_uri": "https://localhost:8080/"
        },
        "outputId": "864b4d01-d6b8-4df9-9577-cc25cd5931d0"
      },
      "execution_count": 16,
      "outputs": [
        {
          "output_type": "execute_result",
          "data": {
            "text/plain": [
              "(50000, 32, 32, 3)"
            ]
          },
          "metadata": {},
          "execution_count": 16
        }
      ]
    },
    {
      "cell_type": "code",
      "source": [
        "x_train.shape[1:]"
      ],
      "metadata": {
        "id": "LdFQ2J6KCIMx",
        "colab": {
          "base_uri": "https://localhost:8080/"
        },
        "outputId": "90a08a44-b81b-488c-da9f-a6dce643e096"
      },
      "execution_count": 17,
      "outputs": [
        {
          "output_type": "execute_result",
          "data": {
            "text/plain": [
              "(32, 32, 3)"
            ]
          },
          "metadata": {},
          "execution_count": 17
        }
      ]
    },
    {
      "cell_type": "code",
      "source": [
        "model1 = Sequential([\n",
        "    Input(shape=x_train.shape[1:]),\n",
        "    Flatten(),\n",
        "    Dense(512, activation='relu'),\n",
        "    Dropout(0.4),\n",
        "    Dense(128, activation = 'relu'),\n",
        "    Dropout(0.2),\n",
        "    Dense(10, activation='softmax')\n",
        "\n",
        "])"
      ],
      "metadata": {
        "id": "JpILa-xrBp3a"
      },
      "execution_count": 18,
      "outputs": []
    },
    {
      "cell_type": "code",
      "source": [
        "model1.summary()"
      ],
      "metadata": {
        "id": "gTxeDZ-6D3EQ",
        "colab": {
          "base_uri": "https://localhost:8080/",
          "height": 321
        },
        "outputId": "9a19efb8-da31-47ba-eb6f-c64f222c2cd3"
      },
      "execution_count": 19,
      "outputs": [
        {
          "output_type": "display_data",
          "data": {
            "text/plain": [
              "\u001b[1mModel: \"sequential\"\u001b[0m\n"
            ],
            "text/html": [
              "<pre style=\"white-space:pre;overflow-x:auto;line-height:normal;font-family:Menlo,'DejaVu Sans Mono',consolas,'Courier New',monospace\"><span style=\"font-weight: bold\">Model: \"sequential\"</span>\n",
              "</pre>\n"
            ]
          },
          "metadata": {}
        },
        {
          "output_type": "display_data",
          "data": {
            "text/plain": [
              "┏━━━━━━━━━━━━━━━━━━━━━━━━━━━━━━━━━┳━━━━━━━━━━━━━━━━━━━━━━━━┳━━━━━━━━━━━━━━━┓\n",
              "┃\u001b[1m \u001b[0m\u001b[1mLayer (type)                   \u001b[0m\u001b[1m \u001b[0m┃\u001b[1m \u001b[0m\u001b[1mOutput Shape          \u001b[0m\u001b[1m \u001b[0m┃\u001b[1m \u001b[0m\u001b[1m      Param #\u001b[0m\u001b[1m \u001b[0m┃\n",
              "┡━━━━━━━━━━━━━━━━━━━━━━━━━━━━━━━━━╇━━━━━━━━━━━━━━━━━━━━━━━━╇━━━━━━━━━━━━━━━┩\n",
              "│ flatten (\u001b[38;5;33mFlatten\u001b[0m)               │ (\u001b[38;5;45mNone\u001b[0m, \u001b[38;5;34m3072\u001b[0m)           │             \u001b[38;5;34m0\u001b[0m │\n",
              "├─────────────────────────────────┼────────────────────────┼───────────────┤\n",
              "│ dense (\u001b[38;5;33mDense\u001b[0m)                   │ (\u001b[38;5;45mNone\u001b[0m, \u001b[38;5;34m512\u001b[0m)            │     \u001b[38;5;34m1,573,376\u001b[0m │\n",
              "├─────────────────────────────────┼────────────────────────┼───────────────┤\n",
              "│ dropout (\u001b[38;5;33mDropout\u001b[0m)               │ (\u001b[38;5;45mNone\u001b[0m, \u001b[38;5;34m512\u001b[0m)            │             \u001b[38;5;34m0\u001b[0m │\n",
              "├─────────────────────────────────┼────────────────────────┼───────────────┤\n",
              "│ dense_1 (\u001b[38;5;33mDense\u001b[0m)                 │ (\u001b[38;5;45mNone\u001b[0m, \u001b[38;5;34m128\u001b[0m)            │        \u001b[38;5;34m65,664\u001b[0m │\n",
              "├─────────────────────────────────┼────────────────────────┼───────────────┤\n",
              "│ dropout_1 (\u001b[38;5;33mDropout\u001b[0m)             │ (\u001b[38;5;45mNone\u001b[0m, \u001b[38;5;34m128\u001b[0m)            │             \u001b[38;5;34m0\u001b[0m │\n",
              "├─────────────────────────────────┼────────────────────────┼───────────────┤\n",
              "│ dense_2 (\u001b[38;5;33mDense\u001b[0m)                 │ (\u001b[38;5;45mNone\u001b[0m, \u001b[38;5;34m10\u001b[0m)             │         \u001b[38;5;34m1,290\u001b[0m │\n",
              "└─────────────────────────────────┴────────────────────────┴───────────────┘\n"
            ],
            "text/html": [
              "<pre style=\"white-space:pre;overflow-x:auto;line-height:normal;font-family:Menlo,'DejaVu Sans Mono',consolas,'Courier New',monospace\">┏━━━━━━━━━━━━━━━━━━━━━━━━━━━━━━━━━┳━━━━━━━━━━━━━━━━━━━━━━━━┳━━━━━━━━━━━━━━━┓\n",
              "┃<span style=\"font-weight: bold\"> Layer (type)                    </span>┃<span style=\"font-weight: bold\"> Output Shape           </span>┃<span style=\"font-weight: bold\">       Param # </span>┃\n",
              "┡━━━━━━━━━━━━━━━━━━━━━━━━━━━━━━━━━╇━━━━━━━━━━━━━━━━━━━━━━━━╇━━━━━━━━━━━━━━━┩\n",
              "│ flatten (<span style=\"color: #0087ff; text-decoration-color: #0087ff\">Flatten</span>)               │ (<span style=\"color: #00d7ff; text-decoration-color: #00d7ff\">None</span>, <span style=\"color: #00af00; text-decoration-color: #00af00\">3072</span>)           │             <span style=\"color: #00af00; text-decoration-color: #00af00\">0</span> │\n",
              "├─────────────────────────────────┼────────────────────────┼───────────────┤\n",
              "│ dense (<span style=\"color: #0087ff; text-decoration-color: #0087ff\">Dense</span>)                   │ (<span style=\"color: #00d7ff; text-decoration-color: #00d7ff\">None</span>, <span style=\"color: #00af00; text-decoration-color: #00af00\">512</span>)            │     <span style=\"color: #00af00; text-decoration-color: #00af00\">1,573,376</span> │\n",
              "├─────────────────────────────────┼────────────────────────┼───────────────┤\n",
              "│ dropout (<span style=\"color: #0087ff; text-decoration-color: #0087ff\">Dropout</span>)               │ (<span style=\"color: #00d7ff; text-decoration-color: #00d7ff\">None</span>, <span style=\"color: #00af00; text-decoration-color: #00af00\">512</span>)            │             <span style=\"color: #00af00; text-decoration-color: #00af00\">0</span> │\n",
              "├─────────────────────────────────┼────────────────────────┼───────────────┤\n",
              "│ dense_1 (<span style=\"color: #0087ff; text-decoration-color: #0087ff\">Dense</span>)                 │ (<span style=\"color: #00d7ff; text-decoration-color: #00d7ff\">None</span>, <span style=\"color: #00af00; text-decoration-color: #00af00\">128</span>)            │        <span style=\"color: #00af00; text-decoration-color: #00af00\">65,664</span> │\n",
              "├─────────────────────────────────┼────────────────────────┼───────────────┤\n",
              "│ dropout_1 (<span style=\"color: #0087ff; text-decoration-color: #0087ff\">Dropout</span>)             │ (<span style=\"color: #00d7ff; text-decoration-color: #00d7ff\">None</span>, <span style=\"color: #00af00; text-decoration-color: #00af00\">128</span>)            │             <span style=\"color: #00af00; text-decoration-color: #00af00\">0</span> │\n",
              "├─────────────────────────────────┼────────────────────────┼───────────────┤\n",
              "│ dense_2 (<span style=\"color: #0087ff; text-decoration-color: #0087ff\">Dense</span>)                 │ (<span style=\"color: #00d7ff; text-decoration-color: #00d7ff\">None</span>, <span style=\"color: #00af00; text-decoration-color: #00af00\">10</span>)             │         <span style=\"color: #00af00; text-decoration-color: #00af00\">1,290</span> │\n",
              "└─────────────────────────────────┴────────────────────────┴───────────────┘\n",
              "</pre>\n"
            ]
          },
          "metadata": {}
        },
        {
          "output_type": "display_data",
          "data": {
            "text/plain": [
              "\u001b[1m Total params: \u001b[0m\u001b[38;5;34m1,640,330\u001b[0m (6.26 MB)\n"
            ],
            "text/html": [
              "<pre style=\"white-space:pre;overflow-x:auto;line-height:normal;font-family:Menlo,'DejaVu Sans Mono',consolas,'Courier New',monospace\"><span style=\"font-weight: bold\"> Total params: </span><span style=\"color: #00af00; text-decoration-color: #00af00\">1,640,330</span> (6.26 MB)\n",
              "</pre>\n"
            ]
          },
          "metadata": {}
        },
        {
          "output_type": "display_data",
          "data": {
            "text/plain": [
              "\u001b[1m Trainable params: \u001b[0m\u001b[38;5;34m1,640,330\u001b[0m (6.26 MB)\n"
            ],
            "text/html": [
              "<pre style=\"white-space:pre;overflow-x:auto;line-height:normal;font-family:Menlo,'DejaVu Sans Mono',consolas,'Courier New',monospace\"><span style=\"font-weight: bold\"> Trainable params: </span><span style=\"color: #00af00; text-decoration-color: #00af00\">1,640,330</span> (6.26 MB)\n",
              "</pre>\n"
            ]
          },
          "metadata": {}
        },
        {
          "output_type": "display_data",
          "data": {
            "text/plain": [
              "\u001b[1m Non-trainable params: \u001b[0m\u001b[38;5;34m0\u001b[0m (0.00 B)\n"
            ],
            "text/html": [
              "<pre style=\"white-space:pre;overflow-x:auto;line-height:normal;font-family:Menlo,'DejaVu Sans Mono',consolas,'Courier New',monospace\"><span style=\"font-weight: bold\"> Non-trainable params: </span><span style=\"color: #00af00; text-decoration-color: #00af00\">0</span> (0.00 B)\n",
              "</pre>\n"
            ]
          },
          "metadata": {}
        }
      ]
    },
    {
      "cell_type": "code",
      "source": [
        "model1.compile(optimizer='adam', loss='categorical_crossentropy', metrics=['accuracy'])"
      ],
      "metadata": {
        "id": "YUXW8D25D77i"
      },
      "execution_count": 20,
      "outputs": []
    },
    {
      "cell_type": "markdown",
      "source": [
        "# Training model"
      ],
      "metadata": {
        "id": "xHssen_FEtKz"
      }
    },
    {
      "cell_type": "code",
      "source": [
        "history1 = model1.fit(x_train, y_train_categorical, epochs=50, validation_split=0.2)"
      ],
      "metadata": {
        "id": "2ci3UMdMEheq",
        "colab": {
          "base_uri": "https://localhost:8080/"
        },
        "outputId": "96f7b13c-c473-4f3a-fb12-48f7847b92fb"
      },
      "execution_count": 21,
      "outputs": [
        {
          "output_type": "stream",
          "name": "stdout",
          "text": [
            "Epoch 1/50\n",
            "\u001b[1m1250/1250\u001b[0m \u001b[32m━━━━━━━━━━━━━━━━━━━━\u001b[0m\u001b[37m\u001b[0m \u001b[1m8s\u001b[0m 4ms/step - accuracy: 0.1859 - loss: 2.2310 - val_accuracy: 0.2843 - val_loss: 1.9949\n",
            "Epoch 2/50\n",
            "\u001b[1m1250/1250\u001b[0m \u001b[32m━━━━━━━━━━━━━━━━━━━━\u001b[0m\u001b[37m\u001b[0m \u001b[1m3s\u001b[0m 3ms/step - accuracy: 0.2516 - loss: 1.9938 - val_accuracy: 0.3257 - val_loss: 1.8995\n",
            "Epoch 3/50\n",
            "\u001b[1m1250/1250\u001b[0m \u001b[32m━━━━━━━━━━━━━━━━━━━━\u001b[0m\u001b[37m\u001b[0m \u001b[1m4s\u001b[0m 3ms/step - accuracy: 0.2692 - loss: 1.9543 - val_accuracy: 0.3323 - val_loss: 1.9002\n",
            "Epoch 4/50\n",
            "\u001b[1m1250/1250\u001b[0m \u001b[32m━━━━━━━━━━━━━━━━━━━━\u001b[0m\u001b[37m\u001b[0m \u001b[1m4s\u001b[0m 3ms/step - accuracy: 0.2769 - loss: 1.9363 - val_accuracy: 0.3150 - val_loss: 1.9127\n",
            "Epoch 5/50\n",
            "\u001b[1m1250/1250\u001b[0m \u001b[32m━━━━━━━━━━━━━━━━━━━━\u001b[0m\u001b[37m\u001b[0m \u001b[1m5s\u001b[0m 3ms/step - accuracy: 0.2902 - loss: 1.9199 - val_accuracy: 0.3307 - val_loss: 1.8840\n",
            "Epoch 6/50\n",
            "\u001b[1m1250/1250\u001b[0m \u001b[32m━━━━━━━━━━━━━━━━━━━━\u001b[0m\u001b[37m\u001b[0m \u001b[1m4s\u001b[0m 3ms/step - accuracy: 0.2954 - loss: 1.9107 - val_accuracy: 0.3364 - val_loss: 1.8801\n",
            "Epoch 7/50\n",
            "\u001b[1m1250/1250\u001b[0m \u001b[32m━━━━━━━━━━━━━━━━━━━━\u001b[0m\u001b[37m\u001b[0m \u001b[1m4s\u001b[0m 3ms/step - accuracy: 0.2950 - loss: 1.9033 - val_accuracy: 0.3482 - val_loss: 1.8607\n",
            "Epoch 8/50\n",
            "\u001b[1m1250/1250\u001b[0m \u001b[32m━━━━━━━━━━━━━━━━━━━━\u001b[0m\u001b[37m\u001b[0m \u001b[1m4s\u001b[0m 3ms/step - accuracy: 0.3092 - loss: 1.8877 - val_accuracy: 0.3485 - val_loss: 1.8832\n",
            "Epoch 9/50\n",
            "\u001b[1m1250/1250\u001b[0m \u001b[32m━━━━━━━━━━━━━━━━━━━━\u001b[0m\u001b[37m\u001b[0m \u001b[1m4s\u001b[0m 3ms/step - accuracy: 0.3070 - loss: 1.8779 - val_accuracy: 0.3613 - val_loss: 1.8460\n",
            "Epoch 10/50\n",
            "\u001b[1m1250/1250\u001b[0m \u001b[32m━━━━━━━━━━━━━━━━━━━━\u001b[0m\u001b[37m\u001b[0m \u001b[1m4s\u001b[0m 3ms/step - accuracy: 0.3031 - loss: 1.8840 - val_accuracy: 0.3421 - val_loss: 1.8691\n",
            "Epoch 11/50\n",
            "\u001b[1m1250/1250\u001b[0m \u001b[32m━━━━━━━━━━━━━━━━━━━━\u001b[0m\u001b[37m\u001b[0m \u001b[1m4s\u001b[0m 3ms/step - accuracy: 0.3065 - loss: 1.8710 - val_accuracy: 0.3581 - val_loss: 1.8379\n",
            "Epoch 12/50\n",
            "\u001b[1m1250/1250\u001b[0m \u001b[32m━━━━━━━━━━━━━━━━━━━━\u001b[0m\u001b[37m\u001b[0m \u001b[1m5s\u001b[0m 3ms/step - accuracy: 0.3164 - loss: 1.8579 - val_accuracy: 0.3720 - val_loss: 1.8323\n",
            "Epoch 13/50\n",
            "\u001b[1m1250/1250\u001b[0m \u001b[32m━━━━━━━━━━━━━━━━━━━━\u001b[0m\u001b[37m\u001b[0m \u001b[1m4s\u001b[0m 3ms/step - accuracy: 0.3209 - loss: 1.8625 - val_accuracy: 0.3560 - val_loss: 1.8415\n",
            "Epoch 14/50\n",
            "\u001b[1m1250/1250\u001b[0m \u001b[32m━━━━━━━━━━━━━━━━━━━━\u001b[0m\u001b[37m\u001b[0m \u001b[1m4s\u001b[0m 3ms/step - accuracy: 0.3156 - loss: 1.8695 - val_accuracy: 0.3697 - val_loss: 1.8558\n",
            "Epoch 15/50\n",
            "\u001b[1m1250/1250\u001b[0m \u001b[32m━━━━━━━━━━━━━━━━━━━━\u001b[0m\u001b[37m\u001b[0m \u001b[1m4s\u001b[0m 3ms/step - accuracy: 0.3225 - loss: 1.8451 - val_accuracy: 0.3365 - val_loss: 1.8519\n",
            "Epoch 16/50\n",
            "\u001b[1m1250/1250\u001b[0m \u001b[32m━━━━━━━━━━━━━━━━━━━━\u001b[0m\u001b[37m\u001b[0m \u001b[1m5s\u001b[0m 4ms/step - accuracy: 0.3237 - loss: 1.8496 - val_accuracy: 0.3560 - val_loss: 1.8373\n",
            "Epoch 17/50\n",
            "\u001b[1m1250/1250\u001b[0m \u001b[32m━━━━━━━━━━━━━━━━━━━━\u001b[0m\u001b[37m\u001b[0m \u001b[1m4s\u001b[0m 3ms/step - accuracy: 0.3183 - loss: 1.8447 - val_accuracy: 0.3639 - val_loss: 1.8305\n",
            "Epoch 18/50\n",
            "\u001b[1m1250/1250\u001b[0m \u001b[32m━━━━━━━━━━━━━━━━━━━━\u001b[0m\u001b[37m\u001b[0m \u001b[1m4s\u001b[0m 3ms/step - accuracy: 0.3274 - loss: 1.8427 - val_accuracy: 0.3428 - val_loss: 1.8804\n",
            "Epoch 19/50\n",
            "\u001b[1m1250/1250\u001b[0m \u001b[32m━━━━━━━━━━━━━━━━━━━━\u001b[0m\u001b[37m\u001b[0m \u001b[1m4s\u001b[0m 3ms/step - accuracy: 0.3235 - loss: 1.8439 - val_accuracy: 0.3574 - val_loss: 1.8372\n",
            "Epoch 20/50\n",
            "\u001b[1m1250/1250\u001b[0m \u001b[32m━━━━━━━━━━━━━━━━━━━━\u001b[0m\u001b[37m\u001b[0m \u001b[1m4s\u001b[0m 3ms/step - accuracy: 0.3304 - loss: 1.8380 - val_accuracy: 0.3809 - val_loss: 1.7993\n",
            "Epoch 21/50\n",
            "\u001b[1m1250/1250\u001b[0m \u001b[32m━━━━━━━━━━━━━━━━━━━━\u001b[0m\u001b[37m\u001b[0m \u001b[1m4s\u001b[0m 3ms/step - accuracy: 0.3261 - loss: 1.8375 - val_accuracy: 0.3725 - val_loss: 1.8281\n",
            "Epoch 22/50\n",
            "\u001b[1m1250/1250\u001b[0m \u001b[32m━━━━━━━━━━━━━━━━━━━━\u001b[0m\u001b[37m\u001b[0m \u001b[1m4s\u001b[0m 3ms/step - accuracy: 0.3315 - loss: 1.8391 - val_accuracy: 0.3700 - val_loss: 1.8130\n",
            "Epoch 23/50\n",
            "\u001b[1m1250/1250\u001b[0m \u001b[32m━━━━━━━━━━━━━━━━━━━━\u001b[0m\u001b[37m\u001b[0m \u001b[1m4s\u001b[0m 3ms/step - accuracy: 0.3319 - loss: 1.8316 - val_accuracy: 0.3443 - val_loss: 1.8707\n",
            "Epoch 24/50\n",
            "\u001b[1m1250/1250\u001b[0m \u001b[32m━━━━━━━━━━━━━━━━━━━━\u001b[0m\u001b[37m\u001b[0m \u001b[1m4s\u001b[0m 3ms/step - accuracy: 0.3315 - loss: 1.8342 - val_accuracy: 0.3671 - val_loss: 1.8133\n",
            "Epoch 25/50\n",
            "\u001b[1m1250/1250\u001b[0m \u001b[32m━━━━━━━━━━━━━━━━━━━━\u001b[0m\u001b[37m\u001b[0m \u001b[1m4s\u001b[0m 3ms/step - accuracy: 0.3343 - loss: 1.8287 - val_accuracy: 0.3502 - val_loss: 1.8276\n",
            "Epoch 26/50\n",
            "\u001b[1m1250/1250\u001b[0m \u001b[32m━━━━━━━━━━━━━━━━━━━━\u001b[0m\u001b[37m\u001b[0m \u001b[1m4s\u001b[0m 3ms/step - accuracy: 0.3294 - loss: 1.8346 - val_accuracy: 0.3541 - val_loss: 1.8481\n",
            "Epoch 27/50\n",
            "\u001b[1m1250/1250\u001b[0m \u001b[32m━━━━━━━━━━━━━━━━━━━━\u001b[0m\u001b[37m\u001b[0m \u001b[1m4s\u001b[0m 3ms/step - accuracy: 0.3363 - loss: 1.8261 - val_accuracy: 0.3513 - val_loss: 1.8381\n",
            "Epoch 28/50\n",
            "\u001b[1m1250/1250\u001b[0m \u001b[32m━━━━━━━━━━━━━━━━━━━━\u001b[0m\u001b[37m\u001b[0m \u001b[1m4s\u001b[0m 3ms/step - accuracy: 0.3350 - loss: 1.8278 - val_accuracy: 0.3633 - val_loss: 1.8332\n",
            "Epoch 29/50\n",
            "\u001b[1m1250/1250\u001b[0m \u001b[32m━━━━━━━━━━━━━━━━━━━━\u001b[0m\u001b[37m\u001b[0m \u001b[1m4s\u001b[0m 3ms/step - accuracy: 0.3348 - loss: 1.8261 - val_accuracy: 0.3608 - val_loss: 1.8333\n",
            "Epoch 30/50\n",
            "\u001b[1m1250/1250\u001b[0m \u001b[32m━━━━━━━━━━━━━━━━━━━━\u001b[0m\u001b[37m\u001b[0m \u001b[1m4s\u001b[0m 3ms/step - accuracy: 0.3394 - loss: 1.8135 - val_accuracy: 0.3768 - val_loss: 1.8312\n",
            "Epoch 31/50\n",
            "\u001b[1m1250/1250\u001b[0m \u001b[32m━━━━━━━━━━━━━━━━━━━━\u001b[0m\u001b[37m\u001b[0m \u001b[1m4s\u001b[0m 3ms/step - accuracy: 0.3378 - loss: 1.8099 - val_accuracy: 0.3623 - val_loss: 1.8431\n",
            "Epoch 32/50\n",
            "\u001b[1m1250/1250\u001b[0m \u001b[32m━━━━━━━━━━━━━━━━━━━━\u001b[0m\u001b[37m\u001b[0m \u001b[1m4s\u001b[0m 3ms/step - accuracy: 0.3367 - loss: 1.8196 - val_accuracy: 0.3707 - val_loss: 1.8194\n",
            "Epoch 33/50\n",
            "\u001b[1m1250/1250\u001b[0m \u001b[32m━━━━━━━━━━━━━━━━━━━━\u001b[0m\u001b[37m\u001b[0m \u001b[1m4s\u001b[0m 3ms/step - accuracy: 0.3422 - loss: 1.8068 - val_accuracy: 0.3476 - val_loss: 1.8032\n",
            "Epoch 34/50\n",
            "\u001b[1m1250/1250\u001b[0m \u001b[32m━━━━━━━━━━━━━━━━━━━━\u001b[0m\u001b[37m\u001b[0m \u001b[1m4s\u001b[0m 3ms/step - accuracy: 0.3440 - loss: 1.7989 - val_accuracy: 0.3785 - val_loss: 1.8070\n",
            "Epoch 35/50\n",
            "\u001b[1m1250/1250\u001b[0m \u001b[32m━━━━━━━━━━━━━━━━━━━━\u001b[0m\u001b[37m\u001b[0m \u001b[1m4s\u001b[0m 3ms/step - accuracy: 0.3395 - loss: 1.8147 - val_accuracy: 0.3733 - val_loss: 1.8211\n",
            "Epoch 36/50\n",
            "\u001b[1m1250/1250\u001b[0m \u001b[32m━━━━━━━━━━━━━━━━━━━━\u001b[0m\u001b[37m\u001b[0m \u001b[1m4s\u001b[0m 3ms/step - accuracy: 0.3474 - loss: 1.7989 - val_accuracy: 0.3755 - val_loss: 1.7933\n",
            "Epoch 37/50\n",
            "\u001b[1m1250/1250\u001b[0m \u001b[32m━━━━━━━━━━━━━━━━━━━━\u001b[0m\u001b[37m\u001b[0m \u001b[1m4s\u001b[0m 3ms/step - accuracy: 0.3428 - loss: 1.8053 - val_accuracy: 0.3714 - val_loss: 1.8289\n",
            "Epoch 38/50\n",
            "\u001b[1m1250/1250\u001b[0m \u001b[32m━━━━━━━━━━━━━━━━━━━━\u001b[0m\u001b[37m\u001b[0m \u001b[1m4s\u001b[0m 3ms/step - accuracy: 0.3458 - loss: 1.7915 - val_accuracy: 0.3611 - val_loss: 1.8305\n",
            "Epoch 39/50\n",
            "\u001b[1m1250/1250\u001b[0m \u001b[32m━━━━━━━━━━━━━━━━━━━━\u001b[0m\u001b[37m\u001b[0m \u001b[1m4s\u001b[0m 3ms/step - accuracy: 0.3466 - loss: 1.8009 - val_accuracy: 0.3695 - val_loss: 1.7928\n",
            "Epoch 40/50\n",
            "\u001b[1m1250/1250\u001b[0m \u001b[32m━━━━━━━━━━━━━━━━━━━━\u001b[0m\u001b[37m\u001b[0m \u001b[1m4s\u001b[0m 3ms/step - accuracy: 0.3489 - loss: 1.7896 - val_accuracy: 0.3690 - val_loss: 1.7946\n",
            "Epoch 41/50\n",
            "\u001b[1m1250/1250\u001b[0m \u001b[32m━━━━━━━━━━━━━━━━━━━━\u001b[0m\u001b[37m\u001b[0m \u001b[1m4s\u001b[0m 3ms/step - accuracy: 0.3504 - loss: 1.7938 - val_accuracy: 0.3660 - val_loss: 1.8177\n",
            "Epoch 42/50\n",
            "\u001b[1m1250/1250\u001b[0m \u001b[32m━━━━━━━━━━━━━━━━━━━━\u001b[0m\u001b[37m\u001b[0m \u001b[1m4s\u001b[0m 3ms/step - accuracy: 0.3449 - loss: 1.8093 - val_accuracy: 0.3805 - val_loss: 1.8048\n",
            "Epoch 43/50\n",
            "\u001b[1m1250/1250\u001b[0m \u001b[32m━━━━━━━━━━━━━━━━━━━━\u001b[0m\u001b[37m\u001b[0m \u001b[1m4s\u001b[0m 3ms/step - accuracy: 0.3495 - loss: 1.7915 - val_accuracy: 0.3627 - val_loss: 1.8061\n",
            "Epoch 44/50\n",
            "\u001b[1m1250/1250\u001b[0m \u001b[32m━━━━━━━━━━━━━━━━━━━━\u001b[0m\u001b[37m\u001b[0m \u001b[1m4s\u001b[0m 3ms/step - accuracy: 0.3459 - loss: 1.7979 - val_accuracy: 0.3640 - val_loss: 1.8230\n",
            "Epoch 45/50\n",
            "\u001b[1m1250/1250\u001b[0m \u001b[32m━━━━━━━━━━━━━━━━━━━━\u001b[0m\u001b[37m\u001b[0m \u001b[1m4s\u001b[0m 3ms/step - accuracy: 0.3462 - loss: 1.7945 - val_accuracy: 0.3848 - val_loss: 1.8082\n",
            "Epoch 46/50\n",
            "\u001b[1m1250/1250\u001b[0m \u001b[32m━━━━━━━━━━━━━━━━━━━━\u001b[0m\u001b[37m\u001b[0m \u001b[1m4s\u001b[0m 3ms/step - accuracy: 0.3503 - loss: 1.7894 - val_accuracy: 0.3475 - val_loss: 1.8294\n",
            "Epoch 47/50\n",
            "\u001b[1m1250/1250\u001b[0m \u001b[32m━━━━━━━━━━━━━━━━━━━━\u001b[0m\u001b[37m\u001b[0m \u001b[1m4s\u001b[0m 3ms/step - accuracy: 0.3476 - loss: 1.7983 - val_accuracy: 0.3772 - val_loss: 1.8025\n",
            "Epoch 48/50\n",
            "\u001b[1m1250/1250\u001b[0m \u001b[32m━━━━━━━━━━━━━━━━━━━━\u001b[0m\u001b[37m\u001b[0m \u001b[1m4s\u001b[0m 3ms/step - accuracy: 0.3513 - loss: 1.7826 - val_accuracy: 0.3711 - val_loss: 1.8010\n",
            "Epoch 49/50\n",
            "\u001b[1m1250/1250\u001b[0m \u001b[32m━━━━━━━━━━━━━━━━━━━━\u001b[0m\u001b[37m\u001b[0m \u001b[1m4s\u001b[0m 3ms/step - accuracy: 0.3524 - loss: 1.7805 - val_accuracy: 0.3612 - val_loss: 1.8212\n",
            "Epoch 50/50\n",
            "\u001b[1m1250/1250\u001b[0m \u001b[32m━━━━━━━━━━━━━━━━━━━━\u001b[0m\u001b[37m\u001b[0m \u001b[1m4s\u001b[0m 3ms/step - accuracy: 0.3452 - loss: 1.7989 - val_accuracy: 0.3781 - val_loss: 1.8142\n"
          ]
        }
      ]
    },
    {
      "cell_type": "code",
      "source": [
        "# history1.history['accuracy']"
      ],
      "metadata": {
        "id": "cyLFUw1rFotO"
      },
      "execution_count": 22,
      "outputs": []
    },
    {
      "cell_type": "code",
      "source": [
        "plt.figure(figsize=(10,5))\n",
        "plt.subplot(1,2,1)\n",
        "plt.plot(history1.history['accuracy'])\n",
        "plt.plot(history1.history['val_accuracy'])\n",
        "plt.title('model ANN accuracy')\n",
        "plt.ylabel('accuracy')\n",
        "plt.xlabel('epoch')\n",
        "plt.legend(['train', 'val'], loc='upper left')\n",
        "\n",
        "plt.subplot(1,2,2)\n",
        "plt.plot(history1.history['loss'])\n",
        "plt.plot(history1.history['val_loss'])\n",
        "plt.title('model ANN loss')\n",
        "plt.ylabel('loss')\n",
        "plt.xlabel('epoch')"
      ],
      "metadata": {
        "id": "xEkyeOoPFziK",
        "colab": {
          "base_uri": "https://localhost:8080/",
          "height": 504
        },
        "outputId": "0f1098fc-43ba-4070-dddd-e6dd5df43c04"
      },
      "execution_count": 23,
      "outputs": [
        {
          "output_type": "execute_result",
          "data": {
            "text/plain": [
              "Text(0.5, 0, 'epoch')"
            ]
          },
          "metadata": {},
          "execution_count": 23
        },
        {
          "output_type": "display_data",
          "data": {
            "text/plain": [
              "<Figure size 1000x500 with 2 Axes>"
            ],
            "image/png": "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\n"
          },
          "metadata": {}
        }
      ]
    },
    {
      "cell_type": "code",
      "source": [
        "[x_test[0]]"
      ],
      "metadata": {
        "id": "wnfhmDFtJuM9",
        "colab": {
          "base_uri": "https://localhost:8080/"
        },
        "outputId": "4a56afcf-42dc-4845-c37a-1285f197dd48"
      },
      "execution_count": 24,
      "outputs": [
        {
          "output_type": "execute_result",
          "data": {
            "text/plain": [
              "[array([[[0.61960787, 0.4392157 , 0.19215687],\n",
              "         [0.62352943, 0.43529412, 0.18431373],\n",
              "         [0.64705884, 0.45490196, 0.2       ],\n",
              "         ...,\n",
              "         [0.5372549 , 0.37254903, 0.14117648],\n",
              "         [0.49411765, 0.35686275, 0.14117648],\n",
              "         [0.45490196, 0.33333334, 0.12941177]],\n",
              " \n",
              "        [[0.59607846, 0.4392157 , 0.2       ],\n",
              "         [0.5921569 , 0.43137255, 0.15686275],\n",
              "         [0.62352943, 0.44705883, 0.1764706 ],\n",
              "         ...,\n",
              "         [0.53333336, 0.37254903, 0.12156863],\n",
              "         [0.49019608, 0.35686275, 0.1254902 ],\n",
              "         [0.46666667, 0.34509805, 0.13333334]],\n",
              " \n",
              "        [[0.5921569 , 0.43137255, 0.18431373],\n",
              "         [0.5921569 , 0.42745098, 0.12941177],\n",
              "         [0.61960787, 0.43529412, 0.14117648],\n",
              "         ...,\n",
              "         [0.54509807, 0.38431373, 0.13333334],\n",
              "         [0.50980395, 0.37254903, 0.13333334],\n",
              "         [0.47058824, 0.34901962, 0.12941177]],\n",
              " \n",
              "        ...,\n",
              " \n",
              "        [[0.26666668, 0.4862745 , 0.69411767],\n",
              "         [0.16470589, 0.39215687, 0.5803922 ],\n",
              "         [0.12156863, 0.34509805, 0.5372549 ],\n",
              "         ...,\n",
              "         [0.14901961, 0.38039216, 0.57254905],\n",
              "         [0.05098039, 0.2509804 , 0.42352942],\n",
              "         [0.15686275, 0.33333334, 0.49803922]],\n",
              " \n",
              "        [[0.23921569, 0.45490196, 0.65882355],\n",
              "         [0.19215687, 0.4       , 0.5803922 ],\n",
              "         [0.13725491, 0.33333334, 0.5176471 ],\n",
              "         ...,\n",
              "         [0.10196079, 0.32156864, 0.50980395],\n",
              "         [0.11372549, 0.32156864, 0.49411765],\n",
              "         [0.07843138, 0.2509804 , 0.41960785]],\n",
              " \n",
              "        [[0.21176471, 0.41960785, 0.627451  ],\n",
              "         [0.21960784, 0.4117647 , 0.58431375],\n",
              "         [0.1764706 , 0.34901962, 0.5176471 ],\n",
              "         ...,\n",
              "         [0.09411765, 0.3019608 , 0.4862745 ],\n",
              "         [0.13333334, 0.32941177, 0.5058824 ],\n",
              "         [0.08235294, 0.2627451 , 0.43137255]]], dtype=float32)]"
            ]
          },
          "metadata": {},
          "execution_count": 24
        }
      ]
    },
    {
      "cell_type": "code",
      "source": [
        "#prediction\n",
        "print(model1.predict(np.array([x_test[0]])))"
      ],
      "metadata": {
        "id": "ieNgzCf2GA-w",
        "colab": {
          "base_uri": "https://localhost:8080/"
        },
        "outputId": "fc7b42cb-b4e7-4922-f841-8022cbbedeb0"
      },
      "execution_count": 25,
      "outputs": [
        {
          "output_type": "stream",
          "name": "stdout",
          "text": [
            "\u001b[1m1/1\u001b[0m \u001b[32m━━━━━━━━━━━━━━━━━━━━\u001b[0m\u001b[37m\u001b[0m \u001b[1m0s\u001b[0m 495ms/step\n",
            "[[0.08537686 0.06199095 0.07179014 0.239644   0.0564432  0.19665505\n",
            "  0.09380689 0.04142467 0.10222232 0.05064586]]\n"
          ]
        }
      ]
    },
    {
      "cell_type": "code",
      "source": [
        "print(np.argmax(model1.predict(np.array([x_test[0]]))))"
      ],
      "metadata": {
        "id": "jYLnjDHbJ_5q",
        "colab": {
          "base_uri": "https://localhost:8080/"
        },
        "outputId": "68728afe-b509-47fb-b1e6-4cd6547d4fe8"
      },
      "execution_count": 26,
      "outputs": [
        {
          "output_type": "stream",
          "name": "stdout",
          "text": [
            "\u001b[1m1/1\u001b[0m \u001b[32m━━━━━━━━━━━━━━━━━━━━\u001b[0m\u001b[37m\u001b[0m \u001b[1m0s\u001b[0m 43ms/step\n",
            "3\n"
          ]
        }
      ]
    },
    {
      "cell_type": "code",
      "source": [
        "model1.predict(np.array([x_test[2]]))"
      ],
      "metadata": {
        "id": "vTPx0KiQIWS9",
        "colab": {
          "base_uri": "https://localhost:8080/"
        },
        "outputId": "b7298369-3afe-4d42-a188-6c4b70e21579"
      },
      "execution_count": 27,
      "outputs": [
        {
          "output_type": "stream",
          "name": "stdout",
          "text": [
            "\u001b[1m1/1\u001b[0m \u001b[32m━━━━━━━━━━━━━━━━━━━━\u001b[0m\u001b[37m\u001b[0m \u001b[1m0s\u001b[0m 47ms/step\n"
          ]
        },
        {
          "output_type": "execute_result",
          "data": {
            "text/plain": [
              "array([[0.1968483 , 0.13141912, 0.07876728, 0.04265898, 0.04052059,\n",
              "        0.02796739, 0.01483443, 0.05354438, 0.24193214, 0.17150734]],\n",
              "      dtype=float32)"
            ]
          },
          "metadata": {},
          "execution_count": 27
        }
      ]
    },
    {
      "cell_type": "code",
      "source": [
        "print(np.argmax(model1.predict(np.array([x_test[2]]))))"
      ],
      "metadata": {
        "id": "62iqEdIRKuHz",
        "colab": {
          "base_uri": "https://localhost:8080/"
        },
        "outputId": "1a74119a-6cd5-4819-8d1f-e39eb527361b"
      },
      "execution_count": 28,
      "outputs": [
        {
          "output_type": "stream",
          "name": "stdout",
          "text": [
            "\u001b[1m1/1\u001b[0m \u001b[32m━━━━━━━━━━━━━━━━━━━━\u001b[0m\u001b[37m\u001b[0m \u001b[1m0s\u001b[0m 28ms/step\n",
            "8\n"
          ]
        }
      ]
    },
    {
      "cell_type": "code",
      "source": [
        "y_pred = model1.predict(x_test)"
      ],
      "metadata": {
        "id": "o6bNDLSkJDk_",
        "colab": {
          "base_uri": "https://localhost:8080/"
        },
        "outputId": "f890d61f-3315-4387-debe-dde73d4f4a25"
      },
      "execution_count": 29,
      "outputs": [
        {
          "output_type": "stream",
          "name": "stdout",
          "text": [
            "\u001b[1m313/313\u001b[0m \u001b[32m━━━━━━━━━━━━━━━━━━━━\u001b[0m\u001b[37m\u001b[0m \u001b[1m1s\u001b[0m 2ms/step\n"
          ]
        }
      ]
    },
    {
      "cell_type": "code",
      "source": [
        "y_pred[:5]"
      ],
      "metadata": {
        "id": "ALEhFHlbKO7Y",
        "colab": {
          "base_uri": "https://localhost:8080/"
        },
        "outputId": "6b44a48d-abd9-47e6-b8e3-f3efc0336c36"
      },
      "execution_count": 30,
      "outputs": [
        {
          "output_type": "execute_result",
          "data": {
            "text/plain": [
              "array([[0.08537684, 0.06199094, 0.07179014, 0.23964407, 0.05644319,\n",
              "        0.19665511, 0.09380692, 0.04142466, 0.10222229, 0.05064585],\n",
              "       [0.11886776, 0.19761938, 0.03450682, 0.02121214, 0.01567619,\n",
              "        0.01176409, 0.00776994, 0.0397186 , 0.22597243, 0.3268927 ],\n",
              "       [0.19684833, 0.13141918, 0.07876727, 0.04265895, 0.04052057,\n",
              "        0.02796736, 0.01483441, 0.05354437, 0.24193214, 0.17150743],\n",
              "       [0.17407192, 0.07551181, 0.12202139, 0.08463795, 0.09898681,\n",
              "        0.06427354, 0.03281614, 0.09155472, 0.16037117, 0.0957545 ],\n",
              "       [0.02398011, 0.01517185, 0.20840827, 0.09540333, 0.253573  ,\n",
              "        0.08939756, 0.2159505 , 0.07870123, 0.00651561, 0.01289871]],\n",
              "      dtype=float32)"
            ]
          },
          "metadata": {},
          "execution_count": 30
        }
      ]
    },
    {
      "cell_type": "code",
      "source": [
        "y_out = np.argmax(y_pred, axis=1)"
      ],
      "metadata": {
        "id": "1TqaHSfjKTUd"
      },
      "execution_count": 31,
      "outputs": []
    },
    {
      "cell_type": "code",
      "source": [
        "y_out[:5]"
      ],
      "metadata": {
        "id": "BDJEWu0CK8Ms",
        "colab": {
          "base_uri": "https://localhost:8080/"
        },
        "outputId": "e50b751a-de74-4303-c502-3529d71cc8d6"
      },
      "execution_count": 32,
      "outputs": [
        {
          "output_type": "execute_result",
          "data": {
            "text/plain": [
              "array([3, 9, 8, 0, 4])"
            ]
          },
          "metadata": {},
          "execution_count": 32
        }
      ]
    },
    {
      "cell_type": "code",
      "source": [
        "y_test[:5]"
      ],
      "metadata": {
        "id": "fVTkKrV1LFjF",
        "colab": {
          "base_uri": "https://localhost:8080/"
        },
        "outputId": "0571c482-09a4-45c9-d425-28d4de9e33d4"
      },
      "execution_count": 33,
      "outputs": [
        {
          "output_type": "execute_result",
          "data": {
            "text/plain": [
              "array([[3],\n",
              "       [8],\n",
              "       [8],\n",
              "       [0],\n",
              "       [6]], dtype=uint8)"
            ]
          },
          "metadata": {},
          "execution_count": 33
        }
      ]
    },
    {
      "cell_type": "code",
      "source": [
        "from sklearn.metrics import classification_report"
      ],
      "metadata": {
        "id": "QPe7ZsqLK91l"
      },
      "execution_count": 34,
      "outputs": []
    },
    {
      "cell_type": "code",
      "source": [
        "print(classification_report(y_test, y_out))"
      ],
      "metadata": {
        "id": "B-mSYj0DLD52",
        "colab": {
          "base_uri": "https://localhost:8080/"
        },
        "outputId": "176b6336-6f62-4595-d002-106e9ceaca37"
      },
      "execution_count": 35,
      "outputs": [
        {
          "output_type": "stream",
          "name": "stdout",
          "text": [
            "              precision    recall  f1-score   support\n",
            "\n",
            "           0       0.54      0.33      0.41      1000\n",
            "           1       0.60      0.44      0.50      1000\n",
            "           2       0.44      0.02      0.04      1000\n",
            "           3       0.21      0.35      0.26      1000\n",
            "           4       0.31      0.39      0.34      1000\n",
            "           5       0.44      0.23      0.30      1000\n",
            "           6       0.39      0.59      0.47      1000\n",
            "           7       0.39      0.53      0.45      1000\n",
            "           8       0.50      0.40      0.44      1000\n",
            "           9       0.40      0.55      0.46      1000\n",
            "\n",
            "    accuracy                           0.38     10000\n",
            "   macro avg       0.42      0.38      0.37     10000\n",
            "weighted avg       0.42      0.38      0.37     10000\n",
            "\n"
          ]
        }
      ]
    },
    {
      "cell_type": "code",
      "source": [],
      "metadata": {
        "id": "Y4PDGnSWLO6V"
      },
      "execution_count": 35,
      "outputs": []
    }
  ]
}
 68bcd43698a4eaa6b55c82504c194f8675f14832
